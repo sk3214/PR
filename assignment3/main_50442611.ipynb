{
 "cells": [
  {
   "cell_type": "markdown",
   "metadata": {
    "id": "VX77nALXKWAa"
   },
   "source": [
    "### INSTRUCTIONS - Assignment 3\n",
    "\n",
    "- Submit only the ipynb file with file format main_{UBID}.ipynb (e.g. main_50370999.ipynb), Submission other than this format will get zero.\n",
    "- Don't submit the zip folder.\n",
    "- We will run all the cells from start to finish, if we get any error or cell executing for more than 20 sec. will get zero for that problem. So plesae make sure to double check your ipynb file from start to finish before submitting.\n",
    "- Refrain from using the Sklearn library unless explicitly mentioned.\n",
    "- Do not use numpy's cov, corrcoef, svd built-in functions.\n",
    "- Don't import additional libraries in the file."
   ]
  },
  {
   "cell_type": "markdown",
   "metadata": {},
   "source": [
    "# Dataset information\n",
    "\n",
    "There are a total of 4 datasets for the assignment.\n",
    "\n",
    "For Assignment3, please choose the dataset according to the following rule.\n",
    "\n",
    "Student UBID + 1 modulo 4 = (number between 0 and 3). For example: (50370006 + 1) % 4 = 3\n",
    "\n",
    "### 0 - UCI dermatology dataset (Target_variable: classcode)\n",
    "\n",
    "Link: https://archive.ics.uci.edu/ml/datasets/Dermatology\n",
    "\n",
    "Features to use -> {erythema, scaling, definite borders, itching}\n",
    "\n",
    "### 1 - MAGIC Gamma Telescope Data Set (Target_variable: class: g,h # gamma (signal), hadron (background))\n",
    "\n",
    "Link: https://archive.ics.uci.edu/ml/datasets/magic%2Bgamma%2Btelescope\n",
    "\n",
    "Features to use -> {fLength, fWidth, fSize, fConc}\n",
    "\n",
    "### 2 - Automobile dataset (Target_variable: body-type)\n",
    "\n",
    "Link: https://archive.ics.uci.edu/ml/datasets/Automobile\n",
    "\n",
    "Features to use -> {length, width, height, horsepower}\n",
    "\n",
    "### 3 - Glass dataset (Target_variable: glass_type)\n",
    "\n",
    "Link: https://archive.ics.uci.edu/ml/machine-learning-databases/glass/glass.data\n",
    "\n",
    "Features to use -> {refractive_index, sodium, aluminium, silicon}\n",
    "\n",
    "Perform all the tasks in the assignment only for one single dataset."
   ]
  },
  {
   "cell_type": "markdown",
   "metadata": {},
   "source": [
    "# Feature information\n",
    "\n",
    "For this assignment, students must start with the 4 features for their respective datasets, use PCA and LDA to get the 2 most significant features as they continue to solve the assignment."
   ]
  },
  {
   "cell_type": "code",
   "execution_count": 54,
   "metadata": {
    "id": "ptG7Gf_CJ9aC"
   },
   "outputs": [],
   "source": [
    "# imports\n",
    "import pandas as pd\n",
    "import numpy as np\n",
    "import math\n",
    "from sklearn.preprocessing import StandardScaler\n",
    "import matplotlib.pyplot as plt\n",
    "\n",
    "%matplotlib inline"
   ]
  },
  {
   "cell_type": "markdown",
   "metadata": {
    "id": "jn4k__-jKTnP"
   },
   "source": [
    "Step 1: load the dataset"
   ]
  },
  {
   "cell_type": "code",
   "execution_count": 55,
   "metadata": {
    "id": "SBkf5uzUKOk0"
   },
   "outputs": [
    {
     "name": "stdout",
     "output_type": "stream",
     "text": [
      "[2 1 3 5 4 6]\n"
     ]
    },
    {
     "name": "stderr",
     "output_type": "stream",
     "text": [
      "C:\\Users\\17164\\AppData\\Local\\Temp\\ipykernel_10340\\712756374.py:6: FutureWarning: In a future version of pandas all arguments of DataFrame.drop except for the argument 'labels' will be keyword-only.\n",
      "  df.drop(df.columns.difference(features), 1, inplace=True)\n"
     ]
    }
   ],
   "source": [
    "# loads csv file into pandas dataframe\n",
    "df = pd.read_csv('dematology.csv')\n",
    "features = ['erythema', 'scaling', 'definite borders', 'itching']\n",
    "featuresWithClass = ['erythema', 'scaling', 'definite borders', 'itching','Classcode']\n",
    "Y,y = df['Classcode'],df['Classcode'].tolist()\n",
    "df.drop(df.columns.difference(features), 1, inplace=True)\n",
    "print(Y.unique())"
   ]
  },
  {
   "cell_type": "code",
   "execution_count": 62,
   "metadata": {},
   "outputs": [
    {
     "data": {
      "text/plain": [
       "2"
      ]
     },
     "execution_count": 62,
     "metadata": {},
     "output_type": "execute_result"
    }
   ],
   "source": [
    "y[y==6]"
   ]
  },
  {
   "cell_type": "markdown",
   "metadata": {
    "id": "t9Asf63LInZR"
   },
   "source": [
    "# Step 2 - 8: PCA implementation \n",
    "\n"
   ]
  },
  {
   "cell_type": "markdown",
   "metadata": {
    "id": "KLnOaQigNjzM"
   },
   "source": [
    "# Step 2: Normalize the feature columns\n",
    "\n",
    "Hint: you can use the imported StandardScaler"
   ]
  },
  {
   "cell_type": "code",
   "execution_count": 44,
   "metadata": {
    "id": "d76FXPd0Nowz"
   },
   "outputs": [
    {
     "name": "stdout",
     "output_type": "stream",
     "text": [
      "-7.860379014346108e-14\n",
      "1.9317880628477724e-14\n",
      "-1.521560655248777e-13\n",
      "1.9095836023552692e-14\n",
      "(366, 4)\n"
     ]
    }
   ],
   "source": [
    "scaler = StandardScaler()\n",
    "dfNormalized = scaler.fit_transform(df)\n",
    "# dfNormalizedTranspose = scaler.transform(df.T)\n",
    "# dfNormalizedMean = dfNormalized.mean()\n",
    "# dfNormalizedMean\n",
    "meanFeature = []\n",
    "for arr in dfNormalized.T:\n",
    "    print(sum(arr))\n",
    "    meanFeature.append(sum(arr)/len(arr))\n",
    "# print(meanFeature[0],len(dfNormalized.T[0]))\n",
    "# print(dfNormalized.T.shape)\n",
    "print(dfNormalized.shape)"
   ]
  },
  {
   "cell_type": "markdown",
   "metadata": {
    "id": "0b1asdl_MCtf"
   },
   "source": [
    "# Eigen decomposition : Compute the eigen values and eigen vectors\n",
    "\n",
    "Step 3: \n",
    "Calculate the covariance between the feature columns. This should be a d x d matrix, where d is the number of features. \n",
    "$\\sigma_{jk} = \\frac{1}{n-1}\\sum_{i=1}^{N}\\left(  x_{ij}-\\bar{x}_j \\right)  \\left( x_{ik}-\\bar{x}_k \\right).$\n",
    "\n",
    "In matrix notation:   \n",
    "$\\Sigma = \\frac{1}{n-1} \\left( (\\mathbf{X} - \\mathbf{\\bar{x}})^T\\;(\\mathbf{X} - \\mathbf{\\bar{x}}) \\right)$  \n",
    "where $\\mathbf{\\bar{x}}$ is the mean vector"
   ]
  },
  {
   "cell_type": "code",
   "execution_count": 45,
   "metadata": {
    "id": "lF06OHpIMfCe"
   },
   "outputs": [
    {
     "name": "stdout",
     "output_type": "stream",
     "text": [
      "Covariance matrix is \n",
      "[[ 1.00273973  0.4366598   0.26079971 -0.0477533 ]\n",
      " [ 0.4366598   1.00273973  0.35896795 -0.08442798]\n",
      " [ 0.26079971  0.35896795  1.00273973 -0.06273517]\n",
      " [-0.0477533  -0.08442798 -0.06273517  1.00273973]]\n"
     ]
    }
   ],
   "source": [
    "# # print(trans)\n",
    "# transpose = dfNormalized.T\n",
    "# for ind,arr in enumerate(transpose):\n",
    "#     transpose[ind] = transpose[ind]-meanFeature[ind]\n",
    "#     # ans = np.add(ans,arr.T*arr)\n",
    "#     # break\n",
    "# # print('New')\n",
    "# # print(trans)\n",
    "# covfeature = 1/3 * (np.dot(transpose,transpose.T))\n",
    "# covfeature\n",
    "mean_vec = np.mean(dfNormalized, axis=0)\n",
    "covMat = (dfNormalized - mean_vec).T.dot((dfNormalized - mean_vec)) / (dfNormalized.shape[0]-1)\n",
    "print('Covariance matrix is \\n%s' %covMat)"
   ]
  },
  {
   "cell_type": "markdown",
   "metadata": {
    "id": "0_kdmJ42NqQK"
   },
   "source": [
    "# Step 4 : Find the eigen values and eigen vectors that represent the feature space.\n",
    "\n",
    "The eigenvectors (principal components) will be used to determine the directions of the new feature space, and the eigenvalues determine their magnitude. In other words, the eigenvalues will explain the variance of the data along the feature axes.\n",
    "\n",
    "\n"
   ]
  },
  {
   "cell_type": "code",
   "execution_count": 46,
   "metadata": {
    "id": "xAyaAMsGODk0"
   },
   "outputs": [
    {
     "name": "stdout",
     "output_type": "stream",
     "text": [
      "Eigen Values \n",
      "  [1.72951923 0.54523164 0.74977144 0.9864366 ]\n",
      "\n",
      "Eigen Vectors \n",
      " [[ 0.56823416  0.57674243  0.56992419  0.14023026]\n",
      " [ 0.6171384  -0.76998312  0.14720298  0.06780471]\n",
      " [ 0.52202207  0.26920453 -0.80723447  0.05826135]\n",
      " [-0.15408792 -0.04497882 -0.04347652  0.98607485]]\n"
     ]
    }
   ],
   "source": [
    "eigenValue, eigenVectors = np.linalg.eig(covMat)\n",
    "print('Eigen Values \\n ',eigenValue)\n",
    "print()\n",
    "print('Eigen Vectors \\n',eigenVectors)\n"
   ]
  },
  {
   "cell_type": "markdown",
   "metadata": {
    "id": "1R68y5IVOFFG"
   },
   "source": [
    "# Step 5 : Consider k=2, Find k axes in the old feature space that contribute most to the variance of the data.\n",
    "\n",
    "where k is the number of principal components, i.e the number of axes in the new feature space.\n",
    "\n",
    "Hint: k largest eigen values and their corressponding eigen vectors"
   ]
  },
  {
   "cell_type": "code",
   "execution_count": 47,
   "metadata": {
    "id": "Vf5wQpYgSaXe"
   },
   "outputs": [
    {
     "name": "stdout",
     "output_type": "stream",
     "text": [
      "Eigenvalues and Eigen Vectors in descending order:\n",
      "(1.729519231464744, array([ 0.56823416,  0.6171384 ,  0.52202207, -0.15408792]))\n",
      "(0.9864365951401612, array([0.14023026, 0.06780471, 0.05826135, 0.98607485]))\n",
      "(0.7497714400563525, array([ 0.56992419,  0.14720298, -0.80723447, -0.04347652]))\n",
      "(0.5452316374483289, array([ 0.57674243, -0.76998312,  0.26920453, -0.04497882]))\n",
      "\n",
      "Required Eigen : [array([[ 0.56823416],\n",
      "       [ 0.6171384 ],\n",
      "       [ 0.52202207],\n",
      "       [-0.15408792]]), array([[0.14023026],\n",
      "       [0.06780471],\n",
      "       [0.05826135],\n",
      "       [0.98607485]])]\n",
      "\n",
      "Variance explained:\n",
      "eigenvalue 1: 43.12%\n",
      "eigenvalue 2: 24.59%\n",
      "eigenvalue 3: 18.69%\n",
      "eigenvalue 4: 13.59%\n"
     ]
    }
   ],
   "source": [
    "\n",
    "### The eigen vectors are not ordered but printing them we can see that 0th element is the largest and thus the corresponding eigen vector will be principal component for PCA\n",
    "# principalEigenValue0,principalEigenValue1, principalEigenVector0,principalEigenVector1 = eigenValue[0], eigenValue[-1],eigenVectors[0],eigenVectors[-1]\n",
    "# print(principalEigenVector0)\n",
    "# print(principalEigenVector1)\n",
    "\n",
    "# eigenMatrix = [(principalEigenValue0,np.array(principalEigenVector0)),(principalEigenValue1,np.array(principalEigenVector1))]\n",
    "# eigenMatrix[0][1]\n",
    "K = 2\n",
    "eig_pairs = [(np.abs(eigenValue[i]), eigenVectors[:,i]) for i in range(len(eigenValue))]\n",
    "\n",
    "# Sort the (eigenvalue, eigenvector) tuples from high to low\n",
    "eig_pairs.sort(key=lambda x: x[0], reverse=True)\n",
    "\n",
    "# Visually confirm that the list is correctly sorted by decreasing eigenvalues\n",
    "print('Eigenvalues and Eigen Vectors in descending order:')\n",
    "for i in eig_pairs:\n",
    "    print(i)\n",
    "RequiredEigen = []\n",
    "for i in range(K):\n",
    "    RequiredEigen.append(eig_pairs[i][1].reshape(len(features),1))\n",
    "print()\n",
    "print('Required Eigen :',RequiredEigen)    \n",
    "\n",
    "\n",
    "print('\\nVariance explained:')\n",
    "eigvSum = sum(eigenValue)\n",
    "for i,j in enumerate(eig_pairs):\n",
    "    print('eigenvalue {0:}: {1:.2%}'.format(i+1, (j[0]/eigvSum).real))"
   ]
  },
  {
   "cell_type": "markdown",
   "metadata": {
    "id": "SJbDAAZbSb9V"
   },
   "source": [
    "# Step 6: Compute the projection matrix\n",
    "\n",
    "The projection matrix will be of dimension d x k. This matrix will be used in the next step to project the data points in the old feature space to the newly calculated feature space.\n",
    "\n",
    "Note: The dimension of old feature space is d, whereas the new feature space is k.\n",
    "\n",
    "Hint: stack the eigen values obtained in the previous step accordingly"
   ]
  },
  {
   "cell_type": "code",
   "execution_count": 48,
   "metadata": {
    "id": "bv-KpB-nTwTm"
   },
   "outputs": [
    {
     "data": {
      "text/plain": [
       "array([[ 0.56823416,  0.14023026],\n",
       "       [ 0.6171384 ,  0.06780471],\n",
       "       [ 0.52202207,  0.05826135],\n",
       "       [-0.15408792,  0.98607485]])"
      ]
     },
     "execution_count": 48,
     "metadata": {},
     "output_type": "execute_result"
    }
   ],
   "source": [
    "projMatrix = np.hstack((RequiredEigen[0].reshape(4,1),RequiredEigen[1].reshape(4,1)))\n",
    "projMatrix"
   ]
  },
  {
   "cell_type": "markdown",
   "metadata": {
    "id": "lNY3eGjbTxNW"
   },
   "source": [
    "# Step 7: Project the data points onto the new feature space\n",
    "\n",
    "The output of this step should be a matrix with dimension, no.of.samples x k\n",
    "\n",
    "Hint: Use the original data points and the projection matrix computed in step 6 to get the new points."
   ]
  },
  {
   "cell_type": "code",
   "execution_count": 63,
   "metadata": {
    "id": "56OYihljUa0J"
   },
   "outputs": [
    {
     "data": {
      "text/html": [
       "<div>\n",
       "<style scoped>\n",
       "    .dataframe tbody tr th:only-of-type {\n",
       "        vertical-align: middle;\n",
       "    }\n",
       "\n",
       "    .dataframe tbody tr th {\n",
       "        vertical-align: top;\n",
       "    }\n",
       "\n",
       "    .dataframe thead th {\n",
       "        text-align: right;\n",
       "    }\n",
       "</style>\n",
       "<table border=\"1\" class=\"dataframe\">\n",
       "  <thead>\n",
       "    <tr style=\"text-align: right;\">\n",
       "      <th></th>\n",
       "      <th>X1</th>\n",
       "      <th>X2</th>\n",
       "      <th>Y</th>\n",
       "    </tr>\n",
       "  </thead>\n",
       "  <tbody>\n",
       "    <tr>\n",
       "      <th>0</th>\n",
       "      <td>-0.991761</td>\n",
       "      <td>1.323132</td>\n",
       "      <td>2.0</td>\n",
       "    </tr>\n",
       "    <tr>\n",
       "      <th>1</th>\n",
       "      <td>2.608685</td>\n",
       "      <td>0.956559</td>\n",
       "      <td>1.0</td>\n",
       "    </tr>\n",
       "    <tr>\n",
       "      <th>2</th>\n",
       "      <td>-0.720668</td>\n",
       "      <td>1.354919</td>\n",
       "      <td>3.0</td>\n",
       "    </tr>\n",
       "    <tr>\n",
       "      <th>3</th>\n",
       "      <td>0.566900</td>\n",
       "      <td>-1.150664</td>\n",
       "      <td>1.0</td>\n",
       "    </tr>\n",
       "    <tr>\n",
       "      <th>4</th>\n",
       "      <td>1.176707</td>\n",
       "      <td>0.681034</td>\n",
       "      <td>3.0</td>\n",
       "    </tr>\n",
       "    <tr>\n",
       "      <th>...</th>\n",
       "      <td>...</td>\n",
       "      <td>...</td>\n",
       "      <td>...</td>\n",
       "    </tr>\n",
       "    <tr>\n",
       "      <th>361</th>\n",
       "      <td>-0.890014</td>\n",
       "      <td>-1.311735</td>\n",
       "      <td>4.0</td>\n",
       "    </tr>\n",
       "    <tr>\n",
       "      <th>362</th>\n",
       "      <td>0.846873</td>\n",
       "      <td>-1.003710</td>\n",
       "      <td>4.0</td>\n",
       "    </tr>\n",
       "    <tr>\n",
       "      <th>363</th>\n",
       "      <td>1.151771</td>\n",
       "      <td>0.795488</td>\n",
       "      <td>3.0</td>\n",
       "    </tr>\n",
       "    <tr>\n",
       "      <th>364</th>\n",
       "      <td>0.126439</td>\n",
       "      <td>-0.315707</td>\n",
       "      <td>3.0</td>\n",
       "    </tr>\n",
       "    <tr>\n",
       "      <th>365</th>\n",
       "      <td>1.422875</td>\n",
       "      <td>-0.939424</td>\n",
       "      <td>1.0</td>\n",
       "    </tr>\n",
       "  </tbody>\n",
       "</table>\n",
       "<p>366 rows × 3 columns</p>\n",
       "</div>"
      ],
      "text/plain": [
       "           X1        X2    Y\n",
       "0   -0.991761  1.323132  2.0\n",
       "1    2.608685  0.956559  1.0\n",
       "2   -0.720668  1.354919  3.0\n",
       "3    0.566900 -1.150664  1.0\n",
       "4    1.176707  0.681034  3.0\n",
       "..        ...       ...  ...\n",
       "361 -0.890014 -1.311735  4.0\n",
       "362  0.846873 -1.003710  4.0\n",
       "363  1.151771  0.795488  3.0\n",
       "364  0.126439 -0.315707  3.0\n",
       "365  1.422875 -0.939424  1.0\n",
       "\n",
       "[366 rows x 3 columns]"
      ]
     },
     "execution_count": 63,
     "metadata": {},
     "output_type": "execute_result"
    }
   ],
   "source": [
    "newMatrix = dfNormalized.dot(projMatrix)\n",
    "# newMatrix\n",
    "newDf = pd.DataFrame(columns=['X1','X2','Y'])\n",
    "for ind,arr in enumerate(newMatrix):\n",
    "    y1 = int(Y[ind])\n",
    "    newDf.loc[len(newDf)] = [arr[0],arr[1],y1]\n",
    "newDf\n",
    "# Y = dfNormalized.dot(projMatrix)\n",
    "# Y"
   ]
  },
  {
   "cell_type": "markdown",
   "metadata": {
    "id": "peCs2McwWoiL"
   },
   "source": [
    "# Step 8: Plot the new data points as a scatter plot\n",
    "\n",
    "Visualize the new data points on a plot. You can use the imported package matplotlib for this purpose"
   ]
  },
  {
   "cell_type": "code",
   "execution_count": 65,
   "metadata": {
    "id": "0EaiioGeXMeu"
   },
   "outputs": [
    {
     "data": {
      "image/png": "[encoded data removed]",
      "text/plain": [
       "<Figure size 720x720 with 2 Axes>"
      ]
     },
     "metadata": {
      "needs_background": "light"
     },
     "output_type": "display_data"
    }
   ],
   "source": [
    "# import matplotlib\n",
    "# x,y,label = newDf['X1'],newDf['X2'],newDf['Y']\n",
    "# colors = ['red','green','orange','purple','black','grey']\n",
    "# fig = plt.figure(figsize=(10,10))\n",
    "# plt.scatter(x, y, c=label, cmap=matplotlib.colors.ListedColormap(colors))\n",
    "\n",
    "# cb = plt.colorbar()\n",
    "# loc = np.arange(0,max(label),max(label)/float(len(colors)))\n",
    "# cb.set_ticks(loc)\n",
    "# cb.set_ticklabels(colors)\n",
    "\n",
    "with plt.style.context('seaborn-whitegrid'):\n",
    "    plt.figure(figsize=(10, 10))\n",
    "    for lab, col in zip((2, 1, 3, 5, 4, 6), \n",
    "                        ('blue', 'red', 'green','orange','black','grey')):\n",
    "        # print(y)\n",
    "        print(Y[y==lab, 0],Y[y==lab, 1])\n",
    "        plt.scatter(Y[y==lab, 0],\n",
    "                    Y[y==lab, 1],\n",
    "                    label=lab,\n",
    "                    c=col)\n",
    "    plt.xlabel('Principal Component 1')\n",
    "    plt.ylabel('Principal Component 2')\n",
    "    plt.legend(loc='lower center')\n",
    "    plt.tight_layout()\n",
    "    plt.show()\n",
    "\n",
    "len(set(label))"
   ]
  },
  {
   "cell_type": "markdown",
   "metadata": {},
   "source": [
    "# Step 9 - 14 Linear Discriminant Analysis"
   ]
  },
  {
   "cell_type": "markdown",
   "metadata": {},
   "source": [
    "# Step 9 - Prepare the dataset"
   ]
  },
  {
   "cell_type": "code",
   "execution_count": 1,
   "metadata": {},
   "outputs": [
    {
     "data": {
      "text/plain": [
       "'\\nMake sure that the data is normalized and all the null values are removed.\\n'"
      ]
     },
     "execution_count": 1,
     "metadata": {},
     "output_type": "execute_result"
    }
   ],
   "source": [
    "# Import the dataset again from step 1.\n",
    "\"\"\"\n",
    "Make sure that the data is normalized and all the null values are removed.\n",
    "\"\"\"\n",
    "# Insert code below this line"
   ]
  },
  {
   "cell_type": "markdown",
   "metadata": {},
   "source": [
    "# Step 10 - Computing d-dimensional mean vectors"
   ]
  },
  {
   "cell_type": "markdown",
   "metadata": {},
   "source": [
    "In this first step, we will start off with a simple computation of the mean vectors $\\pmb m_i$, $(i = 1,2,3,..)$ of the different classes:\n",
    "    \n",
    "$\\pmb m_i = \\begin{bmatrix} \n",
    "\\mu_{\\omega_i (\\text{feature 1})}\\\\ \n",
    "\\mu_{\\omega_i (\\text{feature 2})}\\\\ \n",
    "\\mu_{\\omega_i (\\text{feature 3)}}\\\\\n",
    "\\mu_{\\omega_i (\\text{feature 4})}\\\\\n",
    "\\end{bmatrix} \\; , \\quad \\text{with} \\quad i = 1,2,3,...$"
   ]
  },
  {
   "cell_type": "code",
   "execution_count": null,
   "metadata": {},
   "outputs": [],
   "source": []
  },
  {
   "cell_type": "markdown",
   "metadata": {},
   "source": [
    "# Step 11 - Computing the Scatter Matrices"
   ]
  },
  {
   "cell_type": "markdown",
   "metadata": {},
   "source": [
    "## 11.1 Within-class scatter matrix $S_W$"
   ]
  },
  {
   "cell_type": "markdown",
   "metadata": {},
   "source": [
    "The **within-class scatter** matrix $S_W$ is computed by the following equation:  \n",
    "\n",
    "$S_W = \\sum\\limits_{i=1}^{c}  S_i$\n",
    "\n",
    "where  \n",
    "$S_i = \\sum\\limits_{\\pmb x \\in D_i}^n (\\pmb x - \\pmb m_i)\\;(\\pmb x - \\pmb m_i)^T$  \n",
    "(scatter matrix for every class) \n",
    "\n",
    "and $\\pmb m_i$ is the mean vector    \n",
    "$\\pmb m_i = \\frac{1}{n_i} \\sum\\limits_{\\pmb x \\in D_i}^n \\; \\pmb x_k$"
   ]
  },
  {
   "cell_type": "code",
   "execution_count": null,
   "metadata": {},
   "outputs": [],
   "source": []
  },
  {
   "cell_type": "markdown",
   "metadata": {},
   "source": [
    "## 11.2 Between-class matrix $S_B$"
   ]
  },
  {
   "cell_type": "markdown",
   "metadata": {},
   "source": [
    "The **between-class scatter** matrix $S_B$ is computed by the following equation:  \n",
    "\n",
    "$S_B =  \\sum\\limits_{i=1}^{c} N_{i} (\\pmb m_i - \\pmb m) (\\pmb m_i - \\pmb m)^T$\n",
    "\n",
    "where  \n",
    " $\\pmb m$ is the overall mean, and $\\pmb m_{i}$ and $N_{i}$ are the sample mean and sizes of the respective classes."
   ]
  },
  {
   "cell_type": "code",
   "execution_count": null,
   "metadata": {},
   "outputs": [],
   "source": []
  },
  {
   "cell_type": "markdown",
   "metadata": {},
   "source": [
    "# Step 12: Solving the generalized eigenvalue problem for the matrix $S_{W}^{-1}S_B$"
   ]
  },
  {
   "cell_type": "markdown",
   "metadata": {},
   "source": [
    "Next, we will solve the generalized eigenvalue problem for the matrix $S_{W}^{-1}S_B$ to obtain the linear discriminants."
   ]
  },
  {
   "cell_type": "code",
   "execution_count": null,
   "metadata": {},
   "outputs": [],
   "source": []
  },
  {
   "cell_type": "markdown",
   "metadata": {},
   "source": [
    "### Checking the eigenvector-eigenvalue calculation"
   ]
  },
  {
   "cell_type": "markdown",
   "metadata": {},
   "source": [
    "A quick check that the eigenvector-eigenvalue calculation is correct and satisfy the equation:\n",
    "\n",
    "$\\pmb A\\pmb{v} =  \\lambda\\pmb{v}$  \n",
    "\n",
    "<br>\n",
    "where  \n",
    "$\\pmb A = S_{W}^{-1}S_B\\\\\n",
    "\\pmb{v} = \\; \\text{Eigenvector}\\\\\n",
    "\\lambda = \\; \\text{Eigenvalue}$"
   ]
  },
  {
   "cell_type": "code",
   "execution_count": null,
   "metadata": {},
   "outputs": [],
   "source": [
    "for i in range(len(eig_vals)):\n",
    "    eigv = eig_vecs[:,i].reshape(4,1) \n",
    "    np.testing.assert_array_almost_equal(np.linalg.inv(S_W).dot(S_B).dot(eigv), \n",
    "                                         eig_vals[i] * eigv, \n",
    "                                         decimal=6, err_msg='', verbose=True)\n",
    "\n",
    "# This cell must run without errors"
   ]
  },
  {
   "cell_type": "markdown",
   "metadata": {},
   "source": [
    "## Step 13: Selecting linear discriminants for the new feature subspace"
   ]
  },
  {
   "cell_type": "markdown",
   "metadata": {},
   "source": [
    "So, in order to decide which eigenvector(s) we want to drop for our lower-dimensional subspace, we have to take a look at the corresponding eigenvalues of the eigenvectors. Roughly speaking, the eigenvectors with the lowest eigenvalues bear the least information about the distribution of the data, and those are the ones we want to drop.  \n",
    "The common approach is to rank the eigenvectors from highest to lowest corresponding eigenvalue and choose the top $k$ eigenvectors."
   ]
  },
  {
   "cell_type": "code",
   "execution_count": null,
   "metadata": {},
   "outputs": [],
   "source": [
    "# Eigenvalues in decreasing order:\n"
   ]
  },
  {
   "cell_type": "markdown",
   "metadata": {},
   "source": [
    "# 13.1. Choosing *k* eigenvectors with the largest eigenvalues"
   ]
  },
  {
   "cell_type": "markdown",
   "metadata": {},
   "source": [
    "After sorting the eigenpairs by decreasing eigenvalues, it is now time to construct our $d \\times k$-dimensional eigenvector matrix $\\pmb W$ (here $4 \\times 2$: based on the 2 most informative eigenpairs) and thereby reducing the initial 4-dimensional feature space into a 2-dimensional feature subspace."
   ]
  },
  {
   "cell_type": "code",
   "execution_count": null,
   "metadata": {},
   "outputs": [],
   "source": [
    "# Tip: use np.hstack"
   ]
  },
  {
   "cell_type": "markdown",
   "metadata": {},
   "source": [
    "# Step 14: Transforming the samples onto the new subspace"
   ]
  },
  {
   "cell_type": "markdown",
   "metadata": {},
   "source": [
    "In the last step, we use the $4 \\times 2$-dimensional matrix $\\pmb W$ that we just computed to transform our samples onto the new subspace via the equation   \n",
    "\n",
    "$\\pmb Y = \\pmb X \\times \\pmb W $.\n",
    "\n",
    "(where $\\pmb X$ is a $n \\times d$-dimensional matrix representing the $n$ samples, and $\\pmb Y$ are the transformed $n \\times k$-dimensional samples in the new subspace)."
   ]
  },
  {
   "cell_type": "code",
   "execution_count": null,
   "metadata": {},
   "outputs": [],
   "source": []
  },
  {
   "cell_type": "markdown",
   "metadata": {},
   "source": [
    "# A comparison of PCA and LDA"
   ]
  },
  {
   "cell_type": "code",
   "execution_count": null,
   "metadata": {},
   "outputs": [],
   "source": [
    "# Sample code for the penguins and Iris dataset visualization.\n",
    "# Do not change the code here.\n",
    "# Code written in this cell is not graded but is used to grade the output of code from previous cells.\n",
    "\n",
    "from sklearn.decomposition import PCA as sklearnPCA\n",
    "\n",
    "sklearn_pca = sklearnPCA(n_components=2)\n",
    "X_pca = sklearn_pca.fit_transform(X)\n",
    "\n",
    "def plot_pca():\n",
    "\n",
    "    ax = plt.subplot(111)\n",
    "    \n",
    "    for label,marker,color in zip(\n",
    "        range(1,4),('^', 's', 'o'),('blue', 'red', 'green')):\n",
    "\n",
    "        plt.scatter(x=X_pca[:,0][y == label],\n",
    "                y=X_pca[:,1][y == label],\n",
    "                marker=marker,\n",
    "                color=color,\n",
    "                alpha=0.5,\n",
    "                label=label_dict[label]\n",
    "                )\n",
    "\n",
    "    plt.xlabel('PC1')\n",
    "    plt.ylabel('PC2')\n",
    "\n",
    "    leg = plt.legend(loc='upper right', fancybox=True)\n",
    "    leg.get_frame().set_alpha(0.5)\n",
    "    plt.title('PCA: projection onto the first 2 principal components')\n",
    "\n",
    "    # hide axis ticks\n",
    "    plt.tick_params(axis=\"both\", which=\"both\", bottom=\"off\", top=\"off\",  \n",
    "            labelbottom=\"on\", left=\"off\", right=\"off\", labelleft=\"on\")\n",
    "\n",
    "    # remove axis spines\n",
    "    ax.spines[\"top\"].set_visible(False)  \n",
    "    ax.spines[\"right\"].set_visible(False) \n",
    "    ax.spines[\"bottom\"].set_visible(False) \n",
    "    ax.spines[\"left\"].set_visible(False)    \n",
    "    \n",
    "    plt.tight_layout\n",
    "    plt.grid()\n",
    "    \n",
    "    plt.show()"
   ]
  },
  {
   "cell_type": "code",
   "execution_count": null,
   "metadata": {},
   "outputs": [],
   "source": [
    "plot_pca()\n",
    "plot_step_lda()"
   ]
  },
  {
   "cell_type": "code",
   "execution_count": 4,
   "metadata": {},
   "outputs": [],
   "source": [
    "# Created by Naresh Kumar Devulapally and Sriram Rangarajan"
   ]
  }
 ],
 "metadata": {
  "colab": {
   "provenance": []
  },
  "kernelspec": {
   "display_name": "Python 3.10.5 64-bit",
   "language": "python",
   "name": "python3"
  },
  "language_info": {
   "codemirror_mode": {
    "name": "ipython",
    "version": 3
   },
   "file_extension": ".py",
   "mimetype": "text/x-python",
   "name": "python",
   "nbconvert_exporter": "python",
   "pygments_lexer": "ipython3",
   "version": "3.10.5"
  },
  "vscode": {
   "interpreter": {
    "hash": "76d68c1b867ff41ee99cb78576c2f3a70a4fc70cee90091245f24a872150e938"
   }
  }
 },
 "nbformat": 4,
 "nbformat_minor": 1
}
