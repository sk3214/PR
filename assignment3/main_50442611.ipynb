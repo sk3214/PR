{
 "cells": [
  {
   "cell_type": "markdown",
   "metadata": {
    "id": "VX77nALXKWAa"
   },
   "source": [
    "### INSTRUCTIONS - Assignment 3\n",
    "\n",
    "- Submit only the ipynb file with file format main_{UBID}.ipynb (e.g. main_50370999.ipynb), Submission other than this format will get zero.\n",
    "- Don't submit the zip folder.\n",
    "- We will run all the cells from start to finish, if we get any error or cell executing for more than 20 sec. will get zero for that problem. So plesae make sure to double check your ipynb file from start to finish before submitting.\n",
    "- Refrain from using the Sklearn library unless explicitly mentioned.\n",
    "- Do not use numpy's cov, corrcoef, svd built-in functions.\n",
    "- Don't import additional libraries in the file."
   ]
  },
  {
   "cell_type": "markdown",
   "metadata": {},
   "source": [
    "# Dataset information\n",
    "\n",
    "There are a total of 4 datasets for the assignment.\n",
    "\n",
    "For Assignment3, please choose the dataset according to the following rule.\n",
    "\n",
    "Student UBID + 1 modulo 4 = (number between 0 and 3). For example: (50370006 + 1) % 4 = 3\n",
    "\n",
    "### 0 - UCI dermatology dataset (Target_variable: classcode)\n",
    "\n",
    "Link: https://archive.ics.uci.edu/ml/datasets/Dermatology\n",
    "\n",
    "Features to use -> {erythema, scaling, definite borders, itching}\n",
    "\n",
    "### 1 - MAGIC Gamma Telescope Data Set (Target_variable: class: g,h # gamma (signal), hadron (background))\n",
    "\n",
    "Link: https://archive.ics.uci.edu/ml/datasets/magic%2Bgamma%2Btelescope\n",
    "\n",
    "Features to use -> {fLength, fWidth, fSize, fConc}\n",
    "\n",
    "### 2 - Automobile dataset (Target_variable: body-type)\n",
    "\n",
    "Link: https://archive.ics.uci.edu/ml/datasets/Automobile\n",
    "\n",
    "Features to use -> {length, width, height, horsepower}\n",
    "\n",
    "### 3 - Glass dataset (Target_variable: glass_type)\n",
    "\n",
    "Link: https://archive.ics.uci.edu/ml/machine-learning-databases/glass/glass.data\n",
    "\n",
    "Features to use -> {refractive_index, sodium, aluminium, silicon}\n",
    "\n",
    "Perform all the tasks in the assignment only for one single dataset."
   ]
  },
  {
   "cell_type": "markdown",
   "metadata": {},
   "source": [
    "# Feature information\n",
    "\n",
    "For this assignment, students must start with the 4 features for their respective datasets, use PCA and LDA to get the 2 most significant features as they continue to solve the assignment."
   ]
  },
  {
   "cell_type": "code",
   "execution_count": 1,
   "metadata": {
    "id": "ptG7Gf_CJ9aC"
   },
   "outputs": [],
   "source": [
    "# imports\n",
    "import pandas as pd\n",
    "import numpy as np\n",
    "import math\n",
    "from sklearn.preprocessing import StandardScaler\n",
    "import matplotlib.pyplot as plt\n",
    "\n",
    "%matplotlib inline"
   ]
  },
  {
   "cell_type": "markdown",
   "metadata": {
    "id": "jn4k__-jKTnP"
   },
   "source": [
    "Step 1: load the dataset"
   ]
  },
  {
   "cell_type": "code",
   "execution_count": 2,
   "metadata": {
    "id": "SBkf5uzUKOk0"
   },
   "outputs": [
    {
     "name": "stderr",
     "output_type": "stream",
     "text": [
      "C:\\Users\\17164\\AppData\\Local\\Temp\\ipykernel_27976\\1037388488.py:5: FutureWarning: In a future version of pandas all arguments of DataFrame.drop except for the argument 'labels' will be keyword-only.\n",
      "  df.drop(df.columns.difference(featuresWithClass), 1, inplace=True)\n"
     ]
    }
   ],
   "source": [
    "# loads csv file into pandas dataframe\n",
    "df = pd.read_csv('dematology.csv')\n",
    "features = ['erythema', 'scaling', 'definite borders', 'itching']\n",
    "featuresWithClass = ['erythema', 'scaling', 'definite borders', 'itching','Classcode']\n",
    "df.drop(df.columns.difference(featuresWithClass), 1, inplace=True)\n",
    "df.dropna(how=\"all\", inplace=True)\n",
    "# print(Y.unique())\n",
    "X = df.iloc[:,0:4].values\n",
    "y = df.iloc[:,4].values"
   ]
  },
  {
   "cell_type": "code",
   "execution_count": 3,
   "metadata": {},
   "outputs": [
    {
     "data": {
      "text/plain": [
       "array([[2, 2, 0, 3],\n",
       "       [3, 3, 3, 2],\n",
       "       [2, 1, 2, 3],\n",
       "       ...,\n",
       "       [3, 2, 2, 2],\n",
       "       [2, 1, 3, 1],\n",
       "       [3, 2, 2, 0]], dtype=int64)"
      ]
     },
     "execution_count": 3,
     "metadata": {},
     "output_type": "execute_result"
    }
   ],
   "source": [
    "X"
   ]
  },
  {
   "cell_type": "markdown",
   "metadata": {
    "id": "t9Asf63LInZR"
   },
   "source": [
    "# Step 2 - 8: PCA implementation \n",
    "\n"
   ]
  },
  {
   "cell_type": "markdown",
   "metadata": {
    "id": "KLnOaQigNjzM"
   },
   "source": [
    "# Step 2: Normalize the feature columns\n",
    "\n",
    "Hint: you can use the imported StandardScaler"
   ]
  },
  {
   "cell_type": "code",
   "execution_count": 4,
   "metadata": {
    "id": "d76FXPd0Nowz"
   },
   "outputs": [],
   "source": [
    "### Using standardScaler to normalize the features to reduce variance and get proper results.\n",
    "scaler = StandardScaler()\n",
    "X_std = scaler.fit_transform(X)\n",
    "mean_vec = np.mean(X_std, axis=0)\n"
   ]
  },
  {
   "cell_type": "markdown",
   "metadata": {
    "id": "0b1asdl_MCtf"
   },
   "source": [
    "# Eigen decomposition : Compute the eigen values and eigen vectors\n",
    "\n",
    "Step 3: \n",
    "Calculate the covariance between the feature columns. This should be a d x d matrix, where d is the number of features. \n",
    "$\\sigma_{jk} = \\frac{1}{n-1}\\sum_{i=1}^{N}\\left(  x_{ij}-\\bar{x}_j \\right)  \\left( x_{ik}-\\bar{x}_k \\right).$\n",
    "\n",
    "In matrix notation:   \n",
    "$\\Sigma = \\frac{1}{n-1} \\left( (\\mathbf{X} - \\mathbf{\\bar{x}})^T\\;(\\mathbf{X} - \\mathbf{\\bar{x}}) \\right)$  \n",
    "where $\\mathbf{\\bar{x}}$ is the mean vector"
   ]
  },
  {
   "cell_type": "code",
   "execution_count": 5,
   "metadata": {
    "id": "lF06OHpIMfCe"
   },
   "outputs": [
    {
     "name": "stdout",
     "output_type": "stream",
     "text": [
      "Covariance matrix \n",
      "[[ 1.00273973  0.4366598   0.26079971 -0.0477533 ]\n",
      " [ 0.4366598   1.00273973  0.35896795 -0.08442798]\n",
      " [ 0.26079971  0.35896795  1.00273973 -0.06273517]\n",
      " [-0.0477533  -0.08442798 -0.06273517  1.00273973]]\n"
     ]
    }
   ],
   "source": [
    "##### Covariance matrix #####\n",
    "cov_mat = (X_std - mean_vec).T.dot((X_std - mean_vec)) / (X_std.shape[0]-1)\n",
    "print('Covariance matrix \\n%s' %cov_mat)"
   ]
  },
  {
   "cell_type": "markdown",
   "metadata": {
    "id": "0_kdmJ42NqQK"
   },
   "source": [
    "# Step 4 : Find the eigen values and eigen vectors that represent the feature space.\n",
    "\n",
    "The eigenvectors (principal components) will be used to determine the directions of the new feature space, and the eigenvalues determine their magnitude. In other words, the eigenvalues will explain the variance of the data along the feature axes.\n",
    "\n",
    "\n"
   ]
  },
  {
   "cell_type": "code",
   "execution_count": 6,
   "metadata": {
    "id": "xAyaAMsGODk0"
   },
   "outputs": [
    {
     "name": "stdout",
     "output_type": "stream",
     "text": [
      "Eigen Values \n",
      "  [1.72951923 0.54523164 0.74977144 0.9864366 ]\n",
      "\n",
      "Eigen Vectors \n",
      " [[ 0.56823416  0.57674243  0.56992419  0.14023026]\n",
      " [ 0.6171384  -0.76998312  0.14720298  0.06780471]\n",
      " [ 0.52202207  0.26920453 -0.80723447  0.05826135]\n",
      " [-0.15408792 -0.04497882 -0.04347652  0.98607485]]\n"
     ]
    }
   ],
   "source": [
    "##### Eigen values and eigen vectors\n",
    "eigenValue, eigenVectors = np.linalg.eig(cov_mat)\n",
    "print('Eigen Values \\n ',eigenValue)\n",
    "print()\n",
    "print('Eigen Vectors \\n',eigenVectors)\n"
   ]
  },
  {
   "cell_type": "markdown",
   "metadata": {
    "id": "1R68y5IVOFFG"
   },
   "source": [
    "# Step 5 : Consider k=2, Find k axes in the old feature space that contribute most to the variance of the data.\n",
    "\n",
    "where k is the number of principal components, i.e the number of axes in the new feature space.\n",
    "\n",
    "Hint: k largest eigen values and their corressponding eigen vectors"
   ]
  },
  {
   "cell_type": "code",
   "execution_count": 7,
   "metadata": {
    "id": "Vf5wQpYgSaXe"
   },
   "outputs": [
    {
     "name": "stdout",
     "output_type": "stream",
     "text": [
      "Eigenvalues and Eigen Vectors in descending order:\n",
      "(1.729519231464744, array([ 0.56823416,  0.6171384 ,  0.52202207, -0.15408792]))\n",
      "(0.9864365951401612, array([0.14023026, 0.06780471, 0.05826135, 0.98607485]))\n",
      "(0.7497714400563525, array([ 0.56992419,  0.14720298, -0.80723447, -0.04347652]))\n",
      "(0.5452316374483289, array([ 0.57674243, -0.76998312,  0.26920453, -0.04497882]))\n",
      "\n",
      "Required Eigen : [array([[ 0.56823416],\n",
      "       [ 0.6171384 ],\n",
      "       [ 0.52202207],\n",
      "       [-0.15408792]]), array([[0.14023026],\n",
      "       [0.06780471],\n",
      "       [0.05826135],\n",
      "       [0.98607485]])]\n",
      "\n",
      "Variance explained:\n",
      "eigenvalue 1: 43.12%\n",
      "eigenvalue 2: 24.59%\n",
      "eigenvalue 3: 18.69%\n",
      "eigenvalue 4: 13.59%\n"
     ]
    }
   ],
   "source": [
    "##### To get two eigen vectors ####\n",
    "K = 2\n",
    "eig_pairs = [(np.abs(eigenValue[i]), eigenVectors[:,i]) for i in range(len(eigenValue))]\n",
    "\n",
    "# Sort the (eigenvalue, eigenvector) tuples from high to low\n",
    "eig_pairs.sort(key=lambda x: x[0], reverse=True)\n",
    "\n",
    "# Visually confirm that the list is correctly sorted by decreasing eigenvalues\n",
    "print('Eigenvalues and Eigen Vectors in descending order:')\n",
    "for i in eig_pairs:\n",
    "    print(i)\n",
    "RequiredEigen = []\n",
    "for i in range(K):\n",
    "    RequiredEigen.append(eig_pairs[i][1].reshape(len(features),1))\n",
    "print()\n",
    "print('Required Eigen :',RequiredEigen)    \n",
    "\n",
    "\n",
    "print('\\nVariance explained:')\n",
    "eigvSum = sum(eigenValue)\n",
    "for i,j in enumerate(eig_pairs):\n",
    "    print('eigenvalue {0:}: {1:.2%}'.format(i+1, (j[0]/eigvSum).real))"
   ]
  },
  {
   "cell_type": "markdown",
   "metadata": {
    "id": "SJbDAAZbSb9V"
   },
   "source": [
    "# Step 6: Compute the projection matrix\n",
    "\n",
    "The projection matrix will be of dimension d x k. This matrix will be used in the next step to project the data points in the old feature space to the newly calculated feature space.\n",
    "\n",
    "Note: The dimension of old feature space is d, whereas the new feature space is k.\n",
    "\n",
    "Hint: stack the eigen values obtained in the previous step accordingly"
   ]
  },
  {
   "cell_type": "code",
   "execution_count": 8,
   "metadata": {
    "id": "bv-KpB-nTwTm"
   },
   "outputs": [
    {
     "data": {
      "text/plain": [
       "array([[ 0.56823416,  0.14023026],\n",
       "       [ 0.6171384 ,  0.06780471],\n",
       "       [ 0.52202207,  0.05826135],\n",
       "       [-0.15408792,  0.98607485]])"
      ]
     },
     "execution_count": 8,
     "metadata": {},
     "output_type": "execute_result"
    }
   ],
   "source": [
    "##### stack the eigen vectors to compute the projection matrix\n",
    "projMatrix = np.hstack((RequiredEigen[0],RequiredEigen[1]))\n",
    "projMatrix"
   ]
  },
  {
   "cell_type": "markdown",
   "metadata": {
    "id": "lNY3eGjbTxNW"
   },
   "source": [
    "# Step 7: Project the data points onto the new feature space\n",
    "\n",
    "The output of this step should be a matrix with dimension, no.of.samples x k\n",
    "\n",
    "Hint: Use the original data points and the projection matrix computed in step 6 to get the new points."
   ]
  },
  {
   "cell_type": "code",
   "execution_count": 9,
   "metadata": {
    "id": "56OYihljUa0J"
   },
   "outputs": [
    {
     "data": {
      "text/plain": [
       "array([[-9.91760888e-01,  1.32313243e+00],\n",
       "       [ 2.60868463e+00,  9.56559205e-01],\n",
       "       [-7.20667694e-01,  1.35491896e+00],\n",
       "       [ 5.66900055e-01, -1.15066368e+00],\n",
       "       [ 1.17670743e+00,  6.81033637e-01],\n",
       "       [ 1.44781158e+00, -1.05387835e+00],\n",
       "       [-1.73712034e+00,  3.58891101e-01],\n",
       "       [ 7.36246189e-01,  1.51599023e+00],\n",
       "       [-9.10230392e-03, -1.21494962e+00],\n",
       "       [-9.10230392e-03, -1.21494962e+00],\n",
       "       [ 2.16823434e+00,  2.48172793e-02],\n",
       "       [-9.91760888e-01,  1.32313243e+00],\n",
       "       [ 1.45667991e+00,  8.27987339e-01],\n",
       "       [ 2.02381394e+00, -9.89592415e-01],\n",
       "       [ 7.36246189e-01,  1.51599023e+00],\n",
       "       [-2.45754310e+00, -7.19804527e-01],\n",
       "       [-4.15758529e-01,  1.38741836e+00],\n",
       "       [ 2.87978878e+00, -7.78352780e-01],\n",
       "       [-1.44665335e-01,  1.41920489e+00],\n",
       "       [-2.72864725e+00,  1.01510746e+00],\n",
       "       [-1.16111798e+00,  4.23177034e-01],\n",
       "       [ 1.42287489e+00, -9.39424048e-01],\n",
       "       [-8.56208813e-01,  4.55676436e-01],\n",
       "       [ 1.60243830e-01,  1.45170429e+00],\n",
       "       [-2.75358394e+00,  1.12956176e+00],\n",
       "       [-8.90013828e-01, -1.31173495e+00],\n",
       "       [-2.45754310e+00, -7.19804527e-01],\n",
       "       [-6.95731008e-01,  1.24046466e+00],\n",
       "       [ 1.15177074e+00,  7.95487937e-01],\n",
       "       [-1.57664253e+00,  1.14367932e+00],\n",
       "       [ 5.75768384e-01,  7.31202004e-01],\n",
       "       [-2.33975574e-04,  6.66916071e-01],\n",
       "       [ 1.61715771e+00,  1.61277556e+00],\n",
       "       [-9.10230392e-03, -1.21494962e+00],\n",
       "       [-1.46601619e+00, -1.37602088e+00],\n",
       "       [-2.80206454e-01,  5.19962369e-01],\n",
       "       [-7.20667694e-01,  1.35491896e+00],\n",
       "       [-1.02556590e+00, -4.44278959e-01],\n",
       "       [-7.20667694e-01,  1.35491896e+00],\n",
       "       [ 2.30378642e+00, -8.42638713e-01],\n",
       "       [-1.74598867e+00, -1.52297459e+00],\n",
       "       [-1.74598867e+00, -1.52297459e+00],\n",
       "       [ 7.11320459e-01, -1.36253989e-01],\n",
       "       [-8.90013828e-01, -1.31173495e+00],\n",
       "       [-3.58462209e+00,  8.03867823e-01],\n",
       "       [-1.02556590e+00, -4.44278959e-01],\n",
       "       [-1.29667005e+00,  1.29063303e+00],\n",
       "       [-1.02556590e+00, -4.44278959e-01],\n",
       "       [-1.00062922e+00, -5.58733259e-01],\n",
       "       [-1.77092535e+00, -1.40852029e+00],\n",
       "       [-3.05143141e-01,  6.34416669e-01],\n",
       "       [-1.74598867e+00, -1.52297459e+00],\n",
       "       [-9.10230392e-03, -1.21494962e+00],\n",
       "       [-1.69591065e-01, -2.33039323e-01],\n",
       "       [-3.44907001e+00, -6.35881696e-02],\n",
       "       [ 5.66900055e-01, -1.15066368e+00],\n",
       "       [-2.01709282e+00,  2.11937399e-01],\n",
       "       [-1.29667005e+00,  1.29063303e+00],\n",
       "       [-1.74598867e+00, -1.52297459e+00],\n",
       "       [ 7.45125473e-01,  1.63115740e+00],\n",
       "       [-1.44654379e-01, -3.47493624e-01],\n",
       "       [-8.90013828e-01, -1.31173495e+00],\n",
       "       [-2.45754310e+00, -7.19804527e-01],\n",
       "       [ 2.16823434e+00,  2.48172793e-02],\n",
       "       [-9.91760888e-01,  1.32313243e+00],\n",
       "       [ 1.15177074e+00,  7.95487937e-01],\n",
       "       [ 5.66900055e-01, -1.15066368e+00],\n",
       "       [-2.45754310e+00, -7.19804527e-01],\n",
       "       [ 2.60868463e+00,  9.56559205e-01],\n",
       "       [ 2.87978878e+00, -7.78352780e-01],\n",
       "       [ 4.31347980e-01, -2.83207691e-01],\n",
       "       [-3.14011469e-01, -1.24744902e+00],\n",
       "       [-1.88154074e+00, -6.55518594e-01],\n",
       "       [-1.88154074e+00, -6.55518594e-01],\n",
       "       [-5.85115619e-01,  4.87462967e-01],\n",
       "       [ 5.75768384e-01,  7.31202004e-01],\n",
       "       [ 4.31347980e-01, -2.83207691e-01],\n",
       "       [-5.85115619e-01,  4.87462967e-01],\n",
       "       [-4.05887739e+00, -1.89528549e+00],\n",
       "       [-2.80206454e-01,  5.19962369e-01],\n",
       "       [ 1.15177074e+00,  7.95487937e-01],\n",
       "       [ 1.15177074e+00,  7.95487937e-01],\n",
       "       [-1.16111798e+00,  4.23177034e-01],\n",
       "       [ 1.28732282e+00, -7.19680555e-02],\n",
       "       [-1.57664253e+00,  1.14367932e+00],\n",
       "       [ 1.60243830e-01,  1.45170429e+00],\n",
       "       [ 2.03268227e+00,  8.92273272e-01],\n",
       "       [-4.49563544e-01, -3.79993026e-01],\n",
       "       [-2.16151322e+00, -8.02472296e-01],\n",
       "       [-1.74598867e+00, -1.52297459e+00],\n",
       "       [ 4.40216308e-01,  1.59865800e+00],\n",
       "       [-1.73712034e+00,  3.58891101e-01],\n",
       "       [-2.15264489e+00,  1.07939339e+00],\n",
       "       [ 2.47313255e+00,  1.82401520e+00],\n",
       "       [-1.29667005e+00,  1.29063303e+00],\n",
       "       [-1.73712034e+00,  3.58891101e-01],\n",
       "       [-2.80206454e-01,  5.19962369e-01],\n",
       "       [-1.74598867e+00, -1.52297459e+00],\n",
       "       [ 2.95795905e-01,  5.84248302e-01],\n",
       "       [-9.10230392e-03, -1.21494962e+00],\n",
       "       [-1.44654379e-01, -3.47493624e-01],\n",
       "       [-1.16998631e+00, -1.45868865e+00],\n",
       "       [ 2.60868463e+00,  9.56559205e-01],\n",
       "       [ 6.00705070e-01,  6.16747704e-01],\n",
       "       [-4.24626858e-01, -4.94447326e-01],\n",
       "       [ 2.95795905e-01,  5.84248302e-01],\n",
       "       [-2.45754310e+00, -7.19804527e-01],\n",
       "       [-1.88154074e+00, -6.55518594e-01],\n",
       "       [ 8.71798264e-01,  6.48534235e-01],\n",
       "       [ 5.75768384e-01,  7.31202004e-01],\n",
       "       [ 1.60243830e-01,  1.45170429e+00],\n",
       "       [ 1.60243830e-01,  1.45170429e+00],\n",
       "       [-1.16998631e+00, -1.45868865e+00],\n",
       "       [ 8.71798264e-01,  6.48534235e-01],\n",
       "       [-2.01709282e+00,  2.11937399e-01],\n",
       "       [ 1.60243830e-01,  1.45170429e+00],\n",
       "       [-2.80206454e-01,  5.19962369e-01],\n",
       "       [ 8.71798264e-01,  6.48534235e-01],\n",
       "       [-8.56208813e-01,  4.55676436e-01],\n",
       "       [-1.88154074e+00, -6.55518594e-01],\n",
       "       [ 2.03268227e+00,  8.92273272e-01],\n",
       "       [ 4.31347980e-01, -2.83207691e-01],\n",
       "       [-1.16998631e+00, -1.45868865e+00],\n",
       "       [ 1.61715771e+00,  1.61277556e+00],\n",
       "       [ 1.15177074e+00,  7.95487937e-01],\n",
       "       [-1.44654379e-01, -3.47493624e-01],\n",
       "       [ 5.66900055e-01, -1.15066368e+00],\n",
       "       [ 2.95795905e-01,  5.84248302e-01],\n",
       "       [-2.32199102e+00, -1.58726052e+00],\n",
       "       [-1.73712034e+00,  3.58891101e-01],\n",
       "       [-1.44109046e+00,  2.76223332e-01],\n",
       "       [ 1.60243830e-01,  1.45170429e+00],\n",
       "       [ 1.28732282e+00, -7.19680555e-02],\n",
       "       [-9.10230392e-03, -1.21494962e+00],\n",
       "       [ 1.42287489e+00, -9.39424048e-01],\n",
       "       [-1.88154074e+00, -6.55518594e-01],\n",
       "       [-8.56208813e-01,  4.55676436e-01],\n",
       "       [ 2.16823434e+00,  2.48172793e-02],\n",
       "       [ 1.04115535e+00,  1.54848963e+00],\n",
       "       [ 2.47313255e+00,  1.82401520e+00],\n",
       "       [-2.80206454e-01,  5.19962369e-01],\n",
       "       [ 6.00705070e-01,  6.16747704e-01],\n",
       "       [ 1.01621867e+00,  1.66294393e+00],\n",
       "       [-1.29667005e+00,  1.29063303e+00],\n",
       "       [-1.57664253e+00,  1.14367932e+00],\n",
       "       [ 7.36246189e-01,  1.51599023e+00],\n",
       "       [-1.35786051e-01,  1.53437206e+00],\n",
       "       [-2.72864725e+00,  1.01510746e+00],\n",
       "       [ 5.66900055e-01, -1.15066368e+00],\n",
       "       [ 2.47027108e-02,  5.52461770e-01],\n",
       "       [-1.84773573e+00,  1.11189279e+00],\n",
       "       [ 1.31225950e+00, -1.86422356e-01],\n",
       "       [ 2.03268227e+00,  8.92273272e-01],\n",
       "       [ 5.66900055e-01, -1.15066368e+00],\n",
       "       [-2.89800434e+00,  1.15152064e-01],\n",
       "       [-1.02556590e+00, -4.44278959e-01],\n",
       "       [ 2.47027108e-02,  5.52461770e-01],\n",
       "       [ 2.03268227e+00,  8.92273272e-01],\n",
       "       [-2.80206454e-01,  5.19962369e-01],\n",
       "       [ 1.28732282e+00, -7.19680555e-02],\n",
       "       [-3.14011469e-01, -1.24744902e+00],\n",
       "       [-1.16111798e+00,  4.23177034e-01],\n",
       "       [ 1.15177074e+00,  7.95487937e-01],\n",
       "       [-5.85104663e-01, -1.27923555e+00],\n",
       "       [-2.33975574e-04,  6.66916071e-01],\n",
       "       [ 1.01621867e+00,  1.66294393e+00],\n",
       "       [ 1.17670743e+00,  6.81033637e-01],\n",
       "       [ 7.36246189e-01,  1.51599023e+00],\n",
       "       [ 5.66900055e-01, -1.15066368e+00],\n",
       "       [ 7.36246189e-01,  1.51599023e+00],\n",
       "       [-1.57664253e+00,  1.14367932e+00],\n",
       "       [ 1.44781158e+00, -1.05387835e+00],\n",
       "       [ 1.99887725e+00, -8.75138115e-01],\n",
       "       [ 2.87978878e+00, -7.78352780e-01],\n",
       "       [ 1.15177074e+00,  7.95487937e-01],\n",
       "       [ 5.66900055e-01, -1.15066368e+00],\n",
       "       [ 1.99887725e+00, -8.75138115e-01],\n",
       "       [-9.91760888e-01,  1.32313243e+00],\n",
       "       [-5.60178933e-01,  3.73008667e-01],\n",
       "       [ 2.95795905e-01,  5.84248302e-01],\n",
       "       [ 1.44781158e+00, -1.05387835e+00],\n",
       "       [ 1.42287489e+00, -9.39424048e-01],\n",
       "       [ 1.58343825e-02, -1.32940392e+00],\n",
       "       [ 5.66900055e-01, -1.15066368e+00],\n",
       "       [-9.10230392e-03, -1.21494962e+00],\n",
       "       [-8.56208813e-01,  4.55676436e-01],\n",
       "       [-1.35786051e-01,  1.53437206e+00],\n",
       "       [ 2.47027108e-02,  5.52461770e-01],\n",
       "       [-2.33975574e-04,  6.66916071e-01],\n",
       "       [ 5.66900055e-01, -1.15066368e+00],\n",
       "       [-7.20667694e-01,  1.35491896e+00],\n",
       "       [ 1.61715771e+00,  1.61277556e+00],\n",
       "       [ 1.15177074e+00,  7.95487937e-01],\n",
       "       [ 5.66900055e-01, -1.15066368e+00],\n",
       "       [ 1.42287489e+00, -9.39424048e-01],\n",
       "       [-2.80206454e-01,  5.19962369e-01],\n",
       "       [ 1.59222103e+00,  1.72722986e+00],\n",
       "       [ 1.42287489e+00, -9.39424048e-01],\n",
       "       [ 5.66900055e-01, -1.15066368e+00],\n",
       "       [ 8.46872534e-01, -1.00370998e+00],\n",
       "       [-2.59309518e+00,  1.47651466e-01],\n",
       "       [-2.45754310e+00, -7.19804527e-01],\n",
       "       [-8.56208813e-01,  4.55676436e-01],\n",
       "       [-2.45754310e+00, -7.19804527e-01],\n",
       "       [-8.56208813e-01,  4.55676436e-01],\n",
       "       [ 1.42287489e+00, -9.39424048e-01],\n",
       "       [ 1.44781158e+00, -1.05387835e+00],\n",
       "       [ 1.42287489e+00, -9.39424048e-01],\n",
       "       [ 1.44781158e+00, -1.05387835e+00],\n",
       "       [ 1.44781158e+00, -1.05387835e+00],\n",
       "       [ 1.42287489e+00, -9.39424048e-01],\n",
       "       [ 1.44781158e+00, -1.05387835e+00],\n",
       "       [ 1.60243830e-01,  1.45170429e+00],\n",
       "       [ 2.95795905e-01,  5.84248302e-01],\n",
       "       [ 1.72777310e+00,  8.59773870e-01],\n",
       "       [ 1.04115535e+00,  1.54848963e+00],\n",
       "       [ 8.71798264e-01,  6.48534235e-01],\n",
       "       [ 1.01621867e+00,  1.66294393e+00],\n",
       "       [ 8.46872534e-01, -1.00370998e+00],\n",
       "       [-9.10230392e-03, -1.21494962e+00],\n",
       "       [-3.40389903e-02, -1.10049532e+00],\n",
       "       [ 4.31347980e-01, -2.83207691e-01],\n",
       "       [-2.15264489e+00,  1.07939339e+00],\n",
       "       [-5.85115619e-01,  4.87462967e-01],\n",
       "       [-1.44665335e-01,  1.41920489e+00],\n",
       "       [-5.85115619e-01,  4.87462967e-01],\n",
       "       [-1.00062922e+00, -5.58733259e-01],\n",
       "       [-2.01709282e+00,  2.11937399e-01],\n",
       "       [-3.14011469e-01, -1.24744902e+00],\n",
       "       [-8.56208813e-01,  4.55676436e-01],\n",
       "       [ 1.35318100e-01, -2.00539922e-01],\n",
       "       [-1.10849364e-01,  1.41991776e+00],\n",
       "       [-2.33975574e-04,  6.66916071e-01],\n",
       "       [ 4.31347980e-01, -2.83207691e-01],\n",
       "       [ 1.99887725e+00, -8.75138115e-01],\n",
       "       [ 4.31347980e-01, -2.83207691e-01],\n",
       "       [ 1.72777310e+00,  8.59773870e-01],\n",
       "       [-1.44654379e-01, -3.47493624e-01],\n",
       "       [ 2.95795905e-01,  5.84248302e-01],\n",
       "       [ 4.31347980e-01, -2.83207691e-01],\n",
       "       [ 2.70870175e-01, -1.06799591e+00],\n",
       "       [ 1.60243830e-01,  1.45170429e+00],\n",
       "       [ 1.01621867e+00,  1.66294393e+00],\n",
       "       [ 2.95795905e-01,  5.84248302e-01],\n",
       "       [-3.14011469e-01, -1.24744902e+00],\n",
       "       [ 2.87978878e+00, -7.78352780e-01],\n",
       "       [ 5.66900055e-01, -1.15066368e+00],\n",
       "       [ 5.66900055e-01, -1.15066368e+00],\n",
       "       [ 1.42287489e+00, -9.39424048e-01],\n",
       "       [-1.16111798e+00,  4.23177034e-01],\n",
       "       [ 2.95795905e-01,  5.84248302e-01],\n",
       "       [ 2.95795905e-01,  5.84248302e-01],\n",
       "       [ 2.95795905e-01,  5.84248302e-01],\n",
       "       [-5.85115619e-01,  4.87462967e-01],\n",
       "       [ 1.35307143e-01,  1.56615859e+00],\n",
       "       [-5.85115619e-01,  4.87462967e-01],\n",
       "       [-8.90013828e-01, -1.31173495e+00],\n",
       "       [ 7.11320459e-01, -1.36253989e-01],\n",
       "       [-2.89074783e-01, -1.36190332e+00],\n",
       "       [ 5.66900055e-01, -1.15066368e+00],\n",
       "       [-2.89074783e-01, -1.36190332e+00],\n",
       "       [ 4.31347980e-01, -2.83207691e-01],\n",
       "       [-1.73712034e+00,  3.58891101e-01],\n",
       "       [-2.15264489e+00,  1.07939339e+00],\n",
       "       [-2.59309518e+00,  1.47651466e-01],\n",
       "       [-2.72864725e+00,  1.01510746e+00],\n",
       "       [-1.44654379e-01, -3.47493624e-01],\n",
       "       [ 1.35318100e-01, -2.00539922e-01],\n",
       "       [-1.44654379e-01, -3.47493624e-01],\n",
       "       [ 1.42287489e+00, -9.39424048e-01],\n",
       "       [-9.10230392e-03, -1.21494962e+00],\n",
       "       [ 5.66900055e-01, -1.15066368e+00],\n",
       "       [ 2.30378642e+00, -8.42638713e-01],\n",
       "       [ 1.00735034e+00, -2.18921758e-01],\n",
       "       [-4.24626858e-01, -4.94447326e-01],\n",
       "       [ 1.00735034e+00, -2.18921758e-01],\n",
       "       [ 1.15177074e+00,  7.95487937e-01],\n",
       "       [ 4.31347980e-01, -2.83207691e-01],\n",
       "       [ 1.28732282e+00, -7.19680555e-02],\n",
       "       [-9.10230392e-03, -1.21494962e+00],\n",
       "       [-2.89074783e-01, -1.36190332e+00],\n",
       "       [-9.10230392e-03, -1.21494962e+00],\n",
       "       [ 2.30378642e+00, -8.42638713e-01],\n",
       "       [ 1.88826186e+00, -1.22136423e-01],\n",
       "       [ 4.31347980e-01, -2.83207691e-01],\n",
       "       [ 1.42287489e+00, -9.39424048e-01],\n",
       "       [ 1.31225950e+00, -1.86422356e-01],\n",
       "       [-4.49563544e-01, -3.79993026e-01],\n",
       "       [ 1.00735034e+00, -2.18921758e-01],\n",
       "       [ 1.28732282e+00, -7.19680555e-02],\n",
       "       [ 8.71798264e-01,  6.48534235e-01],\n",
       "       [ 5.66900055e-01, -1.15066368e+00],\n",
       "       [ 1.44781158e+00, -1.05387835e+00],\n",
       "       [ 1.00735034e+00, -2.18921758e-01],\n",
       "       [ 2.61990890e-01, -1.18316309e+00],\n",
       "       [-1.73712034e+00,  3.58891101e-01],\n",
       "       [-1.29667005e+00,  1.29063303e+00],\n",
       "       [-1.44109046e+00,  2.76223332e-01],\n",
       "       [-1.87267241e+00,  1.22634709e+00],\n",
       "       [-4.15758529e-01,  1.38741836e+00],\n",
       "       [ 7.36246189e-01,  1.51599023e+00],\n",
       "       [ 1.15177074e+00,  7.95487937e-01],\n",
       "       [ 1.60243830e-01,  1.45170429e+00],\n",
       "       [-3.14011469e-01, -1.24744902e+00],\n",
       "       [ 4.06411294e-01, -1.68753390e-01],\n",
       "       [ 5.66900055e-01, -1.15066368e+00],\n",
       "       [-8.90013828e-01, -1.31173495e+00],\n",
       "       [-4.49563544e-01, -3.79993026e-01],\n",
       "       [-8.90013828e-01, -1.31173495e+00],\n",
       "       [ 1.44781158e+00, -1.05387835e+00],\n",
       "       [ 1.42287489e+00, -9.39424048e-01],\n",
       "       [ 4.31347980e-01, -2.83207691e-01],\n",
       "       [ 7.36246189e-01,  1.51599023e+00],\n",
       "       [ 1.35307143e-01,  1.56615859e+00],\n",
       "       [ 1.60243830e-01,  1.45170429e+00],\n",
       "       [-7.20667694e-01,  1.35491896e+00],\n",
       "       [ 8.71798264e-01,  6.48534235e-01],\n",
       "       [ 5.66900055e-01, -1.15066368e+00],\n",
       "       [ 1.00735034e+00, -2.18921758e-01],\n",
       "       [ 1.42287489e+00, -9.39424048e-01],\n",
       "       [ 1.14290241e+00, -1.08637775e+00],\n",
       "       [ 5.66900055e-01, -1.15066368e+00],\n",
       "       [-8.90013828e-01, -1.31173495e+00],\n",
       "       [ 2.02381394e+00, -9.89592415e-01],\n",
       "       [ 1.14290241e+00, -1.08637775e+00],\n",
       "       [-3.40389903e-02, -1.10049532e+00],\n",
       "       [-7.20667694e-01,  1.35491896e+00],\n",
       "       [-1.57664253e+00,  1.14367932e+00],\n",
       "       [-1.60156826e+00, -5.08564892e-01],\n",
       "       [ 2.95795905e-01,  5.84248302e-01],\n",
       "       [-3.14011469e-01, -1.24744902e+00],\n",
       "       [-1.74598867e+00, -1.52297459e+00],\n",
       "       [ 5.66900055e-01, -1.15066368e+00],\n",
       "       [-3.60955877e+00,  9.18322123e-01],\n",
       "       [-2.17758158e+00,  1.19384769e+00],\n",
       "       [ 1.42287489e+00, -9.39424048e-01],\n",
       "       [ 1.31225950e+00, -1.86422356e-01],\n",
       "       [-1.46601619e+00, -1.37602088e+00],\n",
       "       [-7.45593425e-01, -2.97325257e-01],\n",
       "       [-5.85115619e-01,  4.87462967e-01],\n",
       "       [ 1.14290241e+00, -1.08637775e+00],\n",
       "       [-2.59309518e+00,  1.47651466e-01],\n",
       "       [-2.04202950e+00,  3.26391699e-01],\n",
       "       [ 5.66900055e-01, -1.15066368e+00],\n",
       "       [-9.10230392e-03, -1.21494962e+00],\n",
       "       [ 4.31347980e-01, -2.83207691e-01],\n",
       "       [ 4.31347980e-01, -2.83207691e-01],\n",
       "       [-7.20656738e-01, -4.11779557e-01],\n",
       "       [ 1.42287489e+00, -9.39424048e-01],\n",
       "       [-9.10230392e-03, -1.21494962e+00],\n",
       "       [-5.60178933e-01,  3.73008667e-01],\n",
       "       [ 1.60243830e-01,  1.45170429e+00],\n",
       "       [ 1.01621867e+00,  1.66294393e+00],\n",
       "       [-2.01709282e+00,  2.11937399e-01],\n",
       "       [-2.04202950e+00,  3.26391699e-01],\n",
       "       [ 1.04115535e+00,  1.54848963e+00],\n",
       "       [ 2.95795905e-01,  5.84248302e-01],\n",
       "       [ 5.66900055e-01, -1.15066368e+00],\n",
       "       [ 1.31225950e+00, -1.86422356e-01],\n",
       "       [-5.85104663e-01, -1.27923555e+00],\n",
       "       [-1.44654379e-01, -3.47493624e-01],\n",
       "       [-8.90013828e-01, -1.31173495e+00],\n",
       "       [ 8.46872534e-01, -1.00370998e+00],\n",
       "       [ 1.15177074e+00,  7.95487937e-01],\n",
       "       [ 1.26438815e-01, -3.15707092e-01],\n",
       "       [ 1.42287489e+00, -9.39424048e-01]])"
      ]
     },
     "execution_count": 9,
     "metadata": {},
     "output_type": "execute_result"
    }
   ],
   "source": [
    "#### Dot product of X_std matrix with projection matrix \n",
    "Y = X_std.dot(projMatrix)\n",
    "Y"
   ]
  },
  {
   "cell_type": "markdown",
   "metadata": {
    "id": "peCs2McwWoiL"
   },
   "source": [
    "# Step 8: Plot the new data points as a scatter plot\n",
    "\n",
    "Visualize the new data points on a plot. You can use the imported package matplotlib for this purpose"
   ]
  },
  {
   "cell_type": "code",
   "execution_count": 11,
   "metadata": {
    "id": "0EaiioGeXMeu"
   },
   "outputs": [
    {
     "data": {
      "image/png": "[encoded data removed]",
      "text/plain": [
       "<Figure size 720x720 with 1 Axes>"
      ]
     },
     "metadata": {},
     "output_type": "display_data"
    }
   ],
   "source": [
    "##### Plotting PCA in direction of eigen vector ####\n",
    "with plt.style.context('seaborn-whitegrid'):\n",
    "    plt.figure(figsize=(10, 10))\n",
    "    for lab, col in zip([2, 1, 3, 5, 4, 6], \n",
    "                        ('blue', 'red', 'green','orange','black','grey')):\n",
    "        # print(y)\n",
    "        # print(Y[y==lab, 0],Y[y==lab, 1])\n",
    "        plt.scatter(Y[y==lab, 0],\n",
    "                    Y[y==lab, 1],\n",
    "                    label=lab,\n",
    "                    c=col)\n",
    "    plt.xlabel('Principal Component 1')\n",
    "    plt.ylabel('Principal Component 2')\n",
    "    plt.legend(loc='lower center')\n",
    "    plt.tight_layout()\n",
    "    plt.show()"
   ]
  },
  {
   "cell_type": "markdown",
   "metadata": {},
   "source": [
    "# Step 9 - 14 Linear Discriminant Analysis"
   ]
  },
  {
   "cell_type": "markdown",
   "metadata": {},
   "source": [
    "# Step 9 - Prepare the dataset"
   ]
  },
  {
   "cell_type": "code",
   "execution_count": 12,
   "metadata": {},
   "outputs": [
    {
     "name": "stderr",
     "output_type": "stream",
     "text": [
      "C:\\Users\\17164\\AppData\\Local\\Temp\\ipykernel_27976\\309931215.py:10: FutureWarning: In a future version of pandas all arguments of DataFrame.drop except for the argument 'labels' will be keyword-only.\n",
      "  dfNew.drop(dfNew.columns.difference(featuresWithClass), 1, inplace=True)\n"
     ]
    },
    {
     "data": {
      "text/plain": [
       "array([[2, 2, 0, 3],\n",
       "       [3, 3, 3, 2],\n",
       "       [2, 1, 2, 3],\n",
       "       ...,\n",
       "       [3, 2, 2, 2],\n",
       "       [2, 1, 3, 1],\n",
       "       [3, 2, 2, 0]], dtype=int64)"
      ]
     },
     "execution_count": 12,
     "metadata": {},
     "output_type": "execute_result"
    }
   ],
   "source": [
    "# Import the dataset again from step 1.\n",
    "\"\"\"\n",
    "Make sure that the data is normalized and all the null values are removed.\n",
    "\"\"\"\n",
    "# Insert code below this line\n",
    "dfNew = pd.read_csv('dematology.csv')\n",
    "features = ['erythema', 'scaling', 'definite borders', 'itching']\n",
    "featuresWithClass = ['erythema', 'scaling', 'definite borders', 'itching','Classcode']\n",
    "\n",
    "dfNew.drop(dfNew.columns.difference(featuresWithClass), 1, inplace=True)\n",
    "dfNew.dropna(how=\"all\", inplace=True)\n",
    "X = dfNew.iloc[:,0:4].values\n",
    "y = dfNew.iloc[:,4].values\n",
    "classes = [1,2,3,4,5,6]\n",
    "X"
   ]
  },
  {
   "cell_type": "markdown",
   "metadata": {},
   "source": [
    "# Step 10 - Computing d-dimensional mean vectors"
   ]
  },
  {
   "cell_type": "markdown",
   "metadata": {},
   "source": [
    "In this first step, we will start off with a simple computation of the mean vectors $\\pmb m_i$, $(i = 1,2,3,..)$ of the different classes:\n",
    "    \n",
    "$\\pmb m_i = \\begin{bmatrix} \n",
    "\\mu_{\\omega_i (\\text{feature 1})}\\\\ \n",
    "\\mu_{\\omega_i (\\text{feature 2})}\\\\ \n",
    "\\mu_{\\omega_i (\\text{feature 3)}}\\\\\n",
    "\\mu_{\\omega_i (\\text{feature 4})}\\\\\n",
    "\\end{bmatrix} \\; , \\quad \\text{with} \\quad i = 1,2,3,...$"
   ]
  },
  {
   "cell_type": "code",
   "execution_count": 13,
   "metadata": {},
   "outputs": [
    {
     "name": "stdout",
     "output_type": "stream",
     "text": [
      "Mean Vector class 0: [2.28571429 2.19642857 2.09821429 0.94642857]\n",
      "\n",
      "Mean Vector class 1: [2.27868852 2.06557377 0.95081967 1.62295082]\n",
      "\n",
      "Mean Vector class 2: [2.08333333 1.625      2.09722222 2.27777778]\n",
      "\n",
      "Mean Vector class 3: [1.89795918 1.51020408 1.18367347 0.46938776]\n",
      "\n",
      "Mean Vector class 4: [1.5        1.13461538 0.84615385 1.88461538]\n",
      "\n",
      "Mean Vector class 5: [2.05 1.75 1.05 0.5 ]\n",
      "\n"
     ]
    }
   ],
   "source": [
    "mean_vectors = []\n",
    "for cl in range(len(classes)):\n",
    "    mean_vectors.append(np.mean(X[y==classes[cl]], axis=0))\n",
    "    print('Mean Vector class %s: %s\\n' %(cl, mean_vectors[cl]))"
   ]
  },
  {
   "cell_type": "markdown",
   "metadata": {},
   "source": [
    "# Step 11 - Computing the Scatter Matrices"
   ]
  },
  {
   "cell_type": "markdown",
   "metadata": {},
   "source": [
    "## 11.1 Within-class scatter matrix $S_W$"
   ]
  },
  {
   "cell_type": "markdown",
   "metadata": {},
   "source": [
    "The **within-class scatter** matrix $S_W$ is computed by the following equation:  \n",
    "\n",
    "$S_W = \\sum\\limits_{i=1}^{c}  S_i$\n",
    "\n",
    "where  \n",
    "$S_i = \\sum\\limits_{\\pmb x \\in D_i}^n (\\pmb x - \\pmb m_i)\\;(\\pmb x - \\pmb m_i)^T$  \n",
    "(scatter matrix for every class) \n",
    "\n",
    "and $\\pmb m_i$ is the mean vector    \n",
    "$\\pmb m_i = \\frac{1}{n_i} \\sum\\limits_{\\pmb x \\in D_i}^n \\; \\pmb x_k$"
   ]
  },
  {
   "cell_type": "code",
   "execution_count": 14,
   "metadata": {},
   "outputs": [
    {
     "name": "stdout",
     "output_type": "stream",
     "text": [
      "within-class Scatter Matrix:\n",
      " [[ 1.35059234e+02  3.91505520e+01  2.69782424e+01  3.04393889e-01]\n",
      " [ 3.91505520e+01  1.28343867e+02  4.53960934e+01  5.75976658e+00]\n",
      " [ 2.69782424e+01  4.53960934e+01  1.86157716e+02 -3.01338730e+01]\n",
      " [ 3.04393889e-01  5.75976658e+00 -3.01338730e+01  3.20962659e+02]]\n"
     ]
    }
   ],
   "source": [
    "S_W = np.zeros((4,4))\n",
    "for cl,mv in zip(range(len(classes)), mean_vectors):\n",
    "    class_sc_mat = np.zeros((4,4))                  # scatter matrix for every class\n",
    "    for row in X[y == classes[cl]]:\n",
    "        row, mv = row.reshape(4,1), mv.reshape(4,1) # make column vectors\n",
    "        class_sc_mat += (row-mv).dot((row-mv).T)\n",
    "    S_W += class_sc_mat                             # sum class scatter matrices\n",
    "print('within-class Scatter Matrix:\\n', S_W)"
   ]
  },
  {
   "cell_type": "markdown",
   "metadata": {},
   "source": [
    "## 11.2 Between-class matrix $S_B$"
   ]
  },
  {
   "cell_type": "markdown",
   "metadata": {},
   "source": [
    "The **between-class scatter** matrix $S_B$ is computed by the following equation:  \n",
    "\n",
    "$S_B =  \\sum\\limits_{i=1}^{c} N_{i} (\\pmb m_i - \\pmb m) (\\pmb m_i - \\pmb m)^T$\n",
    "\n",
    "where  \n",
    " $\\pmb m$ is the overall mean, and $\\pmb m_{i}$ and $N_{i}$ are the sample mean and sizes of the respective classes."
   ]
  },
  {
   "cell_type": "code",
   "execution_count": 15,
   "metadata": {},
   "outputs": [
    {
     "name": "stdout",
     "output_type": "stream",
     "text": [
      "between-class Scatter Matrix:\n",
      " [[ 26.23311587  34.9723988   30.29224936 -13.45739935]\n",
      " [ 34.9723988   51.28728093  37.79243122 -30.30075019]\n",
      " [ 30.29224936  37.79243122 114.45703824   6.54370906]\n",
      " [-13.45739935 -30.30075019   6.54370906 151.97723204]]\n"
     ]
    }
   ],
   "source": [
    "overall_mean = np.mean(X, axis=0)\n",
    "\n",
    "S_B = np.zeros((4,4))\n",
    "for i,mean_vec in enumerate(mean_vectors):  \n",
    "    n = X[y==i+1,:].shape[0]\n",
    "    mean_vec = mean_vec.reshape(4,1) # make column vector\n",
    "    overall_mean = overall_mean.reshape(4,1) # make column vector\n",
    "    S_B += n * (mean_vec - overall_mean).dot((mean_vec - overall_mean).T)\n",
    "    \n",
    "print('between-class Scatter Matrix:\\n', S_B)"
   ]
  },
  {
   "cell_type": "markdown",
   "metadata": {},
   "source": [
    "# Step 12: Solving the generalized eigenvalue problem for the matrix $S_{W}^{-1}S_B$"
   ]
  },
  {
   "cell_type": "markdown",
   "metadata": {},
   "source": [
    "Next, we will solve the generalized eigenvalue problem for the matrix $S_{W}^{-1}S_B$ to obtain the linear discriminants."
   ]
  },
  {
   "cell_type": "code",
   "execution_count": 16,
   "metadata": {},
   "outputs": [
    {
     "name": "stdout",
     "output_type": "stream",
     "text": [
      "\n",
      "Eigenvector 1: \n",
      "[[-0.81672215]\n",
      " [ 0.57492312]\n",
      " [ 0.0247307 ]\n",
      " [ 0.04262313]]\n",
      "Eigenvalue 1: 1.31e-02\n",
      "\n",
      "Eigenvector 2: \n",
      "[[ 0.37828416]\n",
      " [ 0.69059355]\n",
      " [-0.4613015 ]\n",
      " [ 0.40887966]]\n",
      "Eigenvalue 2: 2.22e-01\n",
      "\n",
      "Eigenvector 3: \n",
      "[[-0.32555941]\n",
      " [-0.7566972 ]\n",
      " [-0.36170272]\n",
      " [ 0.43656793]]\n",
      "Eigenvalue 3: 6.23e-01\n",
      "\n",
      "Eigenvector 4: \n",
      "[[ 0.0159598 ]\n",
      " [-0.28524635]\n",
      " [ 0.8341539 ]\n",
      " [ 0.47177016]]\n",
      "Eigenvalue 4: 6.87e-01\n"
     ]
    }
   ],
   "source": [
    "eig_vals, eig_vecs = np.linalg.eig(np.linalg.inv(S_W).dot(S_B))\n",
    "\n",
    "for i in range(len(eig_vals)):\n",
    "    eigvec_sc = eig_vecs[:,i].reshape(4,1)   \n",
    "    print('\\nEigenvector {}: \\n{}'.format(i+1, eigvec_sc.real))\n",
    "    print('Eigenvalue {:}: {:.2e}'.format(i+1, eig_vals[i].real))"
   ]
  },
  {
   "cell_type": "markdown",
   "metadata": {},
   "source": [
    "### Checking the eigenvector-eigenvalue calculation"
   ]
  },
  {
   "cell_type": "markdown",
   "metadata": {},
   "source": [
    "A quick check that the eigenvector-eigenvalue calculation is correct and satisfy the equation:\n",
    "\n",
    "$\\pmb A\\pmb{v} =  \\lambda\\pmb{v}$  \n",
    "\n",
    "<br>\n",
    "where  \n",
    "$\\pmb A = S_{W}^{-1}S_B\\\\\n",
    "\\pmb{v} = \\; \\text{Eigenvector}\\\\\n",
    "\\lambda = \\; \\text{Eigenvalue}$"
   ]
  },
  {
   "cell_type": "code",
   "execution_count": 17,
   "metadata": {},
   "outputs": [],
   "source": [
    "for i in range(len(eig_vals)):\n",
    "    eigv = eig_vecs[:,i].reshape(4,1) \n",
    "    np.testing.assert_array_almost_equal(np.linalg.inv(S_W).dot(S_B).dot(eigv), \n",
    "                                         eig_vals[i] * eigv, \n",
    "                                         decimal=6, err_msg='', verbose=True)\n",
    "\n",
    "# This cell must run without errors"
   ]
  },
  {
   "cell_type": "markdown",
   "metadata": {},
   "source": [
    "## Step 13: Selecting linear discriminants for the new feature subspace"
   ]
  },
  {
   "cell_type": "markdown",
   "metadata": {},
   "source": [
    "So, in order to decide which eigenvector(s) we want to drop for our lower-dimensional subspace, we have to take a look at the corresponding eigenvalues of the eigenvectors. Roughly speaking, the eigenvectors with the lowest eigenvalues bear the least information about the distribution of the data, and those are the ones we want to drop.  \n",
    "The common approach is to rank the eigenvectors from highest to lowest corresponding eigenvalue and choose the top $k$ eigenvectors."
   ]
  },
  {
   "cell_type": "code",
   "execution_count": 18,
   "metadata": {},
   "outputs": [
    {
     "name": "stdout",
     "output_type": "stream",
     "text": [
      "Eigenvalues in decreasing order:\n",
      "\n",
      "0.6866247750456551\n",
      "0.6228758639424645\n",
      "0.2218443948228019\n",
      "0.013122263484260849\n",
      "\n",
      "\n",
      "Variance explained:\n",
      "\n",
      "eigenvalue 1: 44.46%\n",
      "eigenvalue 2: 40.33%\n",
      "eigenvalue 3: 14.36%\n",
      "eigenvalue 4: 0.85%\n"
     ]
    }
   ],
   "source": [
    "# Eigenvalues in decreasing order:\n",
    "# Make a list of (eigenvalue, eigenvector) tuples\n",
    "eig_pairs = [(np.abs(eig_vals[i]), eig_vecs[:,i]) for i in range(len(eig_vals))]\n",
    "\n",
    "# Sort the (eigenvalue, eigenvector) tuples from high to low\n",
    "eig_pairs = sorted(eig_pairs, key=lambda k: k[0], reverse=True)\n",
    "\n",
    "# Visually confirm that the list is correctly sorted by decreasing eigenvalues\n",
    "\n",
    "print('Eigenvalues in decreasing order:\\n')\n",
    "for i in eig_pairs:\n",
    "    print(i[0])\n",
    "\n",
    "print()\n",
    "print()\n",
    "\n",
    "print('Variance explained:\\n')\n",
    "eigv_sum = sum(eig_vals)\n",
    "for i,j in enumerate(eig_pairs):\n",
    "    print('eigenvalue {0:}: {1:.2%}'.format(i+1, (j[0]/eigv_sum).real))"
   ]
  },
  {
   "cell_type": "markdown",
   "metadata": {},
   "source": [
    "# 13.1. Choosing *k* eigenvectors with the largest eigenvalues"
   ]
  },
  {
   "cell_type": "markdown",
   "metadata": {},
   "source": [
    "After sorting the eigenpairs by decreasing eigenvalues, it is now time to construct our $d \\times k$-dimensional eigenvector matrix $\\pmb W$ (here $4 \\times 2$: based on the 2 most informative eigenpairs) and thereby reducing the initial 4-dimensional feature space into a 2-dimensional feature subspace."
   ]
  },
  {
   "cell_type": "code",
   "execution_count": 19,
   "metadata": {},
   "outputs": [
    {
     "name": "stdout",
     "output_type": "stream",
     "text": [
      "Matrix W:\n",
      " [[ 0.0159598  -0.32555941]\n",
      " [-0.28524635 -0.7566972 ]\n",
      " [ 0.8341539  -0.36170272]\n",
      " [ 0.47177016  0.43656793]]\n"
     ]
    }
   ],
   "source": [
    "# Tip: use np.hstack\n",
    "### Computing the projection matrix by stacking eigen vectors which explain the maximum variance\n",
    "K=2\n",
    "\n",
    "k = []\n",
    "for i in range(K):\n",
    "    k.append(eig_pairs[i][1].reshape(len(featuresWithClass)-1,1)) \n",
    "W = np.hstack(k)\n",
    "print('Matrix W:\\n', W.real)"
   ]
  },
  {
   "cell_type": "markdown",
   "metadata": {},
   "source": [
    "# Step 14: Transforming the samples onto the new subspace"
   ]
  },
  {
   "cell_type": "markdown",
   "metadata": {},
   "source": [
    "In the last step, we use the $4 \\times 2$-dimensional matrix $\\pmb W$ that we just computed to transform our samples onto the new subspace via the equation   \n",
    "\n",
    "$\\pmb Y = \\pmb X \\times \\pmb W $.\n",
    "\n",
    "(where $\\pmb X$ is a $n \\times d$-dimensional matrix representing the $n$ samples, and $\\pmb Y$ are the transformed $n \\times k$-dimensional samples in the new subspace)."
   ]
  },
  {
   "cell_type": "code",
   "execution_count": 20,
   "metadata": {},
   "outputs": [
    {
     "name": "stdout",
     "output_type": "stream",
     "text": [
      "(366, 2)\n"
     ]
    }
   ],
   "source": [
    "##### Projecting X matrix with projection matrix to get linear discriminant matrix\n",
    "X_lda = X.dot(W)\n",
    "print(X_lda.shape)"
   ]
  },
  {
   "cell_type": "code",
   "execution_count": 21,
   "metadata": {},
   "outputs": [
    {
     "data": {
      "image/png": "[encoded data removed]",
      "text/plain": [
       "<Figure size 432x288 with 1 Axes>"
      ]
     },
     "metadata": {
      "needs_background": "light"
     },
     "output_type": "display_data"
    }
   ],
   "source": [
    "#### LDA projection\n",
    "from matplotlib import pyplot as plt\n",
    "\n",
    "def plot_step_lda():\n",
    "    \n",
    "    ax = plt.subplot(111)\n",
    "    for label,marker,color in zip(\n",
    "        range(1,7),('^', 's', 'o','8','*','h'),('blue', 'red', 'green','black','grey','yellow')):\n",
    "\n",
    "        plt.scatter(x=X_lda[:,0].real[y == label],\n",
    "                y=X_lda[:,1].real[y == label],\n",
    "                marker=marker,\n",
    "                color=color,\n",
    "                alpha=0.5,\n",
    "                label=label\n",
    "                )\n",
    "\n",
    "    plt.xlabel('LD1')\n",
    "    plt.ylabel('LD2')\n",
    "\n",
    "    leg = plt.legend(loc='upper right', fancybox=True)\n",
    "    leg.get_frame().set_alpha(0.5)\n",
    "    plt.title('LDA: Dermatology projection onto the first 2 linear discriminants')\n",
    "    \n",
    "    # hide axis ticks\n",
    "    plt.tick_params(axis=\"both\", which=\"both\", bottom=\"off\", top=\"off\",  \n",
    "            labelbottom=\"on\", left=\"off\", right=\"off\", labelleft=\"on\")\n",
    "\n",
    "    # remove axis spines\n",
    "    ax.spines[\"top\"].set_visible(False)  \n",
    "    ax.spines[\"right\"].set_visible(False) \n",
    "    ax.spines[\"bottom\"].set_visible(False) \n",
    "    ax.spines[\"left\"].set_visible(False)    \n",
    " \n",
    "    plt.grid()\n",
    "    plt.tight_layout\n",
    "    plt.show()\n",
    "    \n",
    "plot_step_lda()"
   ]
  },
  {
   "cell_type": "markdown",
   "metadata": {},
   "source": [
    "# A comparison of PCA and LDA"
   ]
  },
  {
   "cell_type": "code",
   "execution_count": 22,
   "metadata": {},
   "outputs": [],
   "source": [
    "# Sample code for the penguins and Iris dataset visualization.\n",
    "# Do not change the code here.\n",
    "# Code written in this cell is not graded but is used to grade the output of code from previous cells.\n",
    "\n",
    "from sklearn.decomposition import PCA as sklearnPCA\n",
    "\n",
    "sklearn_pca = sklearnPCA(n_components=2)\n",
    "X_pca = sklearn_pca.fit_transform(X)\n",
    "\n",
    "def plot_pca():\n",
    "\n",
    "    ax = plt.subplot(111)\n",
    "    \n",
    "    for label,marker,color in zip(\n",
    "        range(1,7),('^', 's', 'o','8','*','h'),('blue', 'red', 'green','black','grey','yellow')):\n",
    "\n",
    "        plt.scatter(x=X_pca[:,0][y == label],\n",
    "                y=X_pca[:,1][y == label],\n",
    "                marker=marker,\n",
    "                color=color,\n",
    "                alpha=0.5,\n",
    "                label=label\n",
    "                )\n",
    "\n",
    "    plt.xlabel('PC1')\n",
    "    plt.ylabel('PC2')\n",
    "\n",
    "    leg = plt.legend(loc='upper right', fancybox=True)\n",
    "    leg.get_frame().set_alpha(0.5)\n",
    "    plt.title('PCA: projection onto the first 2 principal components')\n",
    "\n",
    "    # hide axis ticks\n",
    "    plt.tick_params(axis=\"both\", which=\"both\", bottom=\"off\", top=\"off\",  \n",
    "            labelbottom=\"on\", left=\"off\", right=\"off\", labelleft=\"on\")\n",
    "\n",
    "    # remove axis spines\n",
    "    ax.spines[\"top\"].set_visible(False)  \n",
    "    ax.spines[\"right\"].set_visible(False) \n",
    "    ax.spines[\"bottom\"].set_visible(False) \n",
    "    ax.spines[\"left\"].set_visible(False)    \n",
    "    \n",
    "    plt.tight_layout\n",
    "    plt.grid()\n",
    "    \n",
    "    plt.show()"
   ]
  },
  {
   "cell_type": "code",
   "execution_count": 23,
   "metadata": {},
   "outputs": [
    {
     "data": {
      "image/png": "[encoded data removed]",
      "text/plain": [
       "<Figure size 432x288 with 1 Axes>"
      ]
     },
     "metadata": {
      "needs_background": "light"
     },
     "output_type": "display_data"
    },
    {
     "data": {
      "image/png": "[encoded data removed]",
      "text/plain": [
       "<Figure size 432x288 with 1 Axes>"
      ]
     },
     "metadata": {
      "needs_background": "light"
     },
     "output_type": "display_data"
    }
   ],
   "source": [
    "plot_pca()\n",
    "plot_step_lda()"
   ]
  },
  {
   "cell_type": "code",
   "execution_count": null,
   "metadata": {},
   "outputs": [],
   "source": [
    "##### Conclusion #####  \n",
    "# PCA is used for class discrimination and LDA is used for class separability. Since PCA does not use separbility, we see that it is worse performing\n",
    "# as compared to LDA. The procedure as seen above is also different for both of them. In here, it may not be as clearly visible, because the eigen vectors do not have high\n",
    "# variance(Maximum 44%). Due to  this, the class separability feature of LDA was not that effective but was still better than PCA.  \n"
   ]
  },
  {
   "cell_type": "code",
   "execution_count": 24,
   "metadata": {},
   "outputs": [],
   "source": [
    "# Created by Naresh Kumar Devulapally and Sriram Rangarajan\n",
    "\n",
    "#### References\n",
    "### 1) linear_discriminant_analysis.ipynb\n",
    "### 2) principal_component_analysis.ipynb\n",
    "### 3) Class slides\n",
    "### 4) Pandas documentation"
   ]
  },
  {
   "cell_type": "code",
   "execution_count": null,
   "metadata": {},
   "outputs": [],
   "source": []
  }
 ],
 "metadata": {
  "colab": {
   "provenance": []
  },
  "kernelspec": {
   "display_name": "Python 3.10.5 64-bit",
   "language": "python",
   "name": "python3"
  },
  "language_info": {
   "codemirror_mode": {
    "name": "ipython",
    "version": 3
   },
   "file_extension": ".py",
   "mimetype": "text/x-python",
   "name": "python",
   "nbconvert_exporter": "python",
   "pygments_lexer": "ipython3",
   "version": "3.10.5"
  },
  "vscode": {
   "interpreter": {
    "hash": "76d68c1b867ff41ee99cb78576c2f3a70a4fc70cee90091245f24a872150e938"
   }
  }
 },
 "nbformat": 4,
 "nbformat_minor": 1
}
