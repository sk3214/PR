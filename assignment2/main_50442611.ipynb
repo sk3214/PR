{
 "cells": [
  {
   "cell_type": "markdown",
   "id": "dab82456",
   "metadata": {},
   "source": [
    "### INSTRUCTIONS - Assignment 2\n",
    "\n",
    "- Submit only the ipynb file with file format main_{UBID}.ipynb (e.g. main_50370999.ipynb), Submission other than this format will get zero.\n",
    "- Don't submit the zip folder.\n",
    "- We will run all the cells from start to finish, if we get any error or cell stuck for more than 20 sec. will get zero for that problem. So make sure ipynb file run from start to finish before submitting.\n",
    "\n",
    "- Refrain from using Sklearn library unless explicitly mentioned.\n",
    "\n",
    "- Don't import additional libraries in the file.\n"
   ]
  },
  {
   "cell_type": "code",
   "execution_count": 2,
   "id": "27b41dc8",
   "metadata": {
    "id": "planned-perry"
   },
   "outputs": [],
   "source": [
    "# imports\n",
    "import pandas as pd\n",
    "import numpy as np\n",
    "import math\n",
    "from sklearn.model_selection import train_test_split\n",
    "import matplotlib.pyplot as plt\n",
    "\n",
    "%matplotlib inline"
   ]
  },
  {
   "cell_type": "markdown",
   "id": "d68d38e5",
   "metadata": {
    "id": "traditional-tissue"
   },
   "source": [
    "#### STEP 1 - Load Data"
   ]
  },
  {
   "cell_type": "code",
   "execution_count": 3,
   "id": "229eb4ee",
   "metadata": {},
   "outputs": [],
   "source": [
    "# import os\n",
    "# print(os.getcwd())"
   ]
  },
  {
   "cell_type": "code",
   "execution_count": 4,
   "id": "e1e6cffc",
   "metadata": {
    "id": "measured-report"
   },
   "outputs": [
    {
     "data": {
      "text/plain": [
       "150"
      ]
     },
     "execution_count": 4,
     "metadata": {},
     "output_type": "execute_result"
    }
   ],
   "source": [
    "# loads csv file into pandas dataframe\n",
    "df = pd.read_csv('IRIS_data.csv')\n",
    "### Dropping sepal width as it is not able to show much variance across the three classes and the features will be independent.\n",
    "df.drop(columns=['sepal_width'],inplace=True)\n",
    "len(df)"
   ]
  },
  {
   "cell_type": "markdown",
   "id": "6dfed0e0-369f-4ea7-812f-9e1078159e50",
   "metadata": {},
   "source": [
    "#### STEP 2 - PreProcessing\n",
    "Do Label Encoding: Convert string Label to integer\n",
    "\n",
    "and Convert string column to float\n",
    "\n",
    "( 5 Points)"
   ]
  },
  {
   "cell_type": "code",
   "execution_count": 5,
   "id": "0885ff39-7dd2-4f7e-ac6b-2e541b77cada",
   "metadata": {},
   "outputs": [],
   "source": [
    "# STEP 2\n",
    "irisDict = {'Iris-setosa':0, 'Iris-versicolor':1, 'Iris-virginica':2}\n",
    "df['species'] = df['species'].map(irisDict)"
   ]
  },
  {
   "cell_type": "code",
   "execution_count": 6,
   "id": "3f62cc90",
   "metadata": {},
   "outputs": [
    {
     "data": {
      "text/html": [
       "<div>\n",
       "<style scoped>\n",
       "    .dataframe tbody tr th:only-of-type {\n",
       "        vertical-align: middle;\n",
       "    }\n",
       "\n",
       "    .dataframe tbody tr th {\n",
       "        vertical-align: top;\n",
       "    }\n",
       "\n",
       "    .dataframe thead th {\n",
       "        text-align: right;\n",
       "    }\n",
       "</style>\n",
       "<table border=\"1\" class=\"dataframe\">\n",
       "  <thead>\n",
       "    <tr style=\"text-align: right;\">\n",
       "      <th></th>\n",
       "      <th>sepal_length</th>\n",
       "      <th>petal_length</th>\n",
       "      <th>petal_width</th>\n",
       "      <th>species</th>\n",
       "    </tr>\n",
       "  </thead>\n",
       "  <tbody>\n",
       "    <tr>\n",
       "      <th>0</th>\n",
       "      <td>5.1</td>\n",
       "      <td>1.4</td>\n",
       "      <td>0.2</td>\n",
       "      <td>0</td>\n",
       "    </tr>\n",
       "    <tr>\n",
       "      <th>1</th>\n",
       "      <td>4.9</td>\n",
       "      <td>1.4</td>\n",
       "      <td>0.2</td>\n",
       "      <td>0</td>\n",
       "    </tr>\n",
       "    <tr>\n",
       "      <th>2</th>\n",
       "      <td>4.7</td>\n",
       "      <td>1.3</td>\n",
       "      <td>0.2</td>\n",
       "      <td>0</td>\n",
       "    </tr>\n",
       "    <tr>\n",
       "      <th>3</th>\n",
       "      <td>4.6</td>\n",
       "      <td>1.5</td>\n",
       "      <td>0.2</td>\n",
       "      <td>0</td>\n",
       "    </tr>\n",
       "    <tr>\n",
       "      <th>4</th>\n",
       "      <td>5.0</td>\n",
       "      <td>1.4</td>\n",
       "      <td>0.2</td>\n",
       "      <td>0</td>\n",
       "    </tr>\n",
       "    <tr>\n",
       "      <th>...</th>\n",
       "      <td>...</td>\n",
       "      <td>...</td>\n",
       "      <td>...</td>\n",
       "      <td>...</td>\n",
       "    </tr>\n",
       "    <tr>\n",
       "      <th>145</th>\n",
       "      <td>6.7</td>\n",
       "      <td>5.2</td>\n",
       "      <td>2.3</td>\n",
       "      <td>2</td>\n",
       "    </tr>\n",
       "    <tr>\n",
       "      <th>146</th>\n",
       "      <td>6.3</td>\n",
       "      <td>5.0</td>\n",
       "      <td>1.9</td>\n",
       "      <td>2</td>\n",
       "    </tr>\n",
       "    <tr>\n",
       "      <th>147</th>\n",
       "      <td>6.5</td>\n",
       "      <td>5.2</td>\n",
       "      <td>2.0</td>\n",
       "      <td>2</td>\n",
       "    </tr>\n",
       "    <tr>\n",
       "      <th>148</th>\n",
       "      <td>6.2</td>\n",
       "      <td>5.4</td>\n",
       "      <td>2.3</td>\n",
       "      <td>2</td>\n",
       "    </tr>\n",
       "    <tr>\n",
       "      <th>149</th>\n",
       "      <td>5.9</td>\n",
       "      <td>5.1</td>\n",
       "      <td>1.8</td>\n",
       "      <td>2</td>\n",
       "    </tr>\n",
       "  </tbody>\n",
       "</table>\n",
       "<p>150 rows × 4 columns</p>\n",
       "</div>"
      ],
      "text/plain": [
       "     sepal_length  petal_length  petal_width  species\n",
       "0             5.1           1.4          0.2        0\n",
       "1             4.9           1.4          0.2        0\n",
       "2             4.7           1.3          0.2        0\n",
       "3             4.6           1.5          0.2        0\n",
       "4             5.0           1.4          0.2        0\n",
       "..            ...           ...          ...      ...\n",
       "145           6.7           5.2          2.3        2\n",
       "146           6.3           5.0          1.9        2\n",
       "147           6.5           5.2          2.0        2\n",
       "148           6.2           5.4          2.3        2\n",
       "149           5.9           5.1          1.8        2\n",
       "\n",
       "[150 rows x 4 columns]"
      ]
     },
     "execution_count": 6,
     "metadata": {},
     "output_type": "execute_result"
    }
   ],
   "source": [
    "df"
   ]
  },
  {
   "cell_type": "markdown",
   "id": "9abea4a2",
   "metadata": {
    "id": "twelve-skill"
   },
   "source": [
    "#### STEP 3 - \n",
    "Split the Data into different training subsets and testing split. Do training on different training sets and check their respective accuracy on Testset\n",
    "\n",
    "( 50% Training - Subset1, 30% Training - Subset2 and 20% Testing) \n",
    "\n",
    "Hint: The train_test split with stratify function is already imported earlier in the notebook\n",
    "\n",
    "( 5 Points)"
   ]
  },
  {
   "cell_type": "code",
   "execution_count": 87,
   "id": "96945b0e",
   "metadata": {
    "id": "downtown-antarctica"
   },
   "outputs": [
    {
     "name": "stdout",
     "output_type": "stream",
     "text": [
      "75 45 30 150\n"
     ]
    },
    {
     "data": {
      "text/html": [
       "<div>\n",
       "<style scoped>\n",
       "    .dataframe tbody tr th:only-of-type {\n",
       "        vertical-align: middle;\n",
       "    }\n",
       "\n",
       "    .dataframe tbody tr th {\n",
       "        vertical-align: top;\n",
       "    }\n",
       "\n",
       "    .dataframe thead th {\n",
       "        text-align: right;\n",
       "    }\n",
       "</style>\n",
       "<table border=\"1\" class=\"dataframe\">\n",
       "  <thead>\n",
       "    <tr style=\"text-align: right;\">\n",
       "      <th></th>\n",
       "      <th>sepal_length</th>\n",
       "      <th>petal_length</th>\n",
       "      <th>petal_width</th>\n",
       "      <th>species</th>\n",
       "    </tr>\n",
       "  </thead>\n",
       "  <tbody>\n",
       "    <tr>\n",
       "      <th>count</th>\n",
       "      <td>150.000000</td>\n",
       "      <td>150.000000</td>\n",
       "      <td>150.000000</td>\n",
       "      <td>150.000000</td>\n",
       "    </tr>\n",
       "    <tr>\n",
       "      <th>mean</th>\n",
       "      <td>5.843333</td>\n",
       "      <td>3.758667</td>\n",
       "      <td>1.198667</td>\n",
       "      <td>1.000000</td>\n",
       "    </tr>\n",
       "    <tr>\n",
       "      <th>std</th>\n",
       "      <td>0.828066</td>\n",
       "      <td>1.764420</td>\n",
       "      <td>0.763161</td>\n",
       "      <td>0.819232</td>\n",
       "    </tr>\n",
       "    <tr>\n",
       "      <th>min</th>\n",
       "      <td>4.300000</td>\n",
       "      <td>1.000000</td>\n",
       "      <td>0.100000</td>\n",
       "      <td>0.000000</td>\n",
       "    </tr>\n",
       "    <tr>\n",
       "      <th>25%</th>\n",
       "      <td>5.100000</td>\n",
       "      <td>1.600000</td>\n",
       "      <td>0.300000</td>\n",
       "      <td>0.000000</td>\n",
       "    </tr>\n",
       "    <tr>\n",
       "      <th>50%</th>\n",
       "      <td>5.800000</td>\n",
       "      <td>4.350000</td>\n",
       "      <td>1.300000</td>\n",
       "      <td>1.000000</td>\n",
       "    </tr>\n",
       "    <tr>\n",
       "      <th>75%</th>\n",
       "      <td>6.400000</td>\n",
       "      <td>5.100000</td>\n",
       "      <td>1.800000</td>\n",
       "      <td>2.000000</td>\n",
       "    </tr>\n",
       "    <tr>\n",
       "      <th>max</th>\n",
       "      <td>7.900000</td>\n",
       "      <td>6.900000</td>\n",
       "      <td>2.500000</td>\n",
       "      <td>2.000000</td>\n",
       "    </tr>\n",
       "  </tbody>\n",
       "</table>\n",
       "</div>"
      ],
      "text/plain": [
       "       sepal_length  petal_length  petal_width     species\n",
       "count    150.000000    150.000000   150.000000  150.000000\n",
       "mean       5.843333      3.758667     1.198667    1.000000\n",
       "std        0.828066      1.764420     0.763161    0.819232\n",
       "min        4.300000      1.000000     0.100000    0.000000\n",
       "25%        5.100000      1.600000     0.300000    0.000000\n",
       "50%        5.800000      4.350000     1.300000    1.000000\n",
       "75%        6.400000      5.100000     1.800000    2.000000\n",
       "max        7.900000      6.900000     2.500000    2.000000"
      ]
     },
     "execution_count": 87,
     "metadata": {},
     "output_type": "execute_result"
    }
   ],
   "source": [
    "#STEP 3\n",
    "train,test = train_test_split(df,train_size=0.8,random_state=16,shuffle=True)\n",
    "train1,train2 = train[:len(train)*5//8],train[len(train)*5//8:]\n",
    "print(len(train1),len(train2),len(test),len(df))\n",
    "df.describe()"
   ]
  },
  {
   "cell_type": "markdown",
   "id": "143898a5-5942-45e0-ba19-cbbb54053c22",
   "metadata": {},
   "source": [
    "#### Steps 4 to 8 \n",
    "\n",
    "Naive Bayes Implementation\n",
    "\n",
    "(40 Points)"
   ]
  },
  {
   "cell_type": "markdown",
   "id": "d47e1b2d-8a32-4adf-ba90-089e937c4c35",
   "metadata": {},
   "source": [
    "### Implement the Next Steps \n",
    "- Step 4: Separate By Class - we will first need to separate our training data by class.\n",
    "\n",
    "- Step 5: Summarize Dataset - We need two statistics from a given set of data. The two statistics are the mean and the standard deviation.\n",
    "\n",
    "- Step 6: Summarize Data By Class - Summarize (i.e. Mean and Standard deviation) of the dataset organized by separate classes."
   ]
  },
  {
   "cell_type": "code",
   "execution_count": 88,
   "id": "c887536a-a5c3-434c-97dd-682f315bf938",
   "metadata": {},
   "outputs": [
    {
     "name": "stdout",
     "output_type": "stream",
     "text": [
      "28 26 21 12 12 21\n"
     ]
    }
   ],
   "source": [
    "# STEP 4-6\n",
    "########## 4 ############\n",
    "train1Class0,train1Class1,train1Class2 = train1[train1['species']==0],train1[train1['species']==1],train1[train1['species']==2]\n",
    "train2Class0,train2Class1,train2Class2 = train2[train2['species']==0],train2[train2['species']==1],train2[train2['species']==2]\n",
    "print(len(train1Class0),len(train1Class1),len(train1Class2),len(train2Class0),len(train2Class1),len(train2Class2))"
   ]
  },
  {
   "cell_type": "code",
   "execution_count": 89,
   "id": "78782455",
   "metadata": {},
   "outputs": [],
   "source": [
    "####### Function for 5\n",
    "def summarizzeDataset(dataframe):\n",
    "    copy = dataframe.copy()\n",
    "    copy.drop(columns=['species'],inplace=True)\n",
    "    return copy.mean(), copy.std()"
   ]
  },
  {
   "cell_type": "code",
   "execution_count": 90,
   "id": "65caf0de",
   "metadata": {},
   "outputs": [
    {
     "name": "stdout",
     "output_type": "stream",
     "text": [
      "#### Entire Dataset Mean #####\n",
      "sepal_length    5.843333\n",
      "petal_length    3.758667\n",
      "petal_width     1.198667\n",
      "dtype: float64\n",
      "\n",
      "#### Entire Dataset Standard Deviation #####\n",
      "sepal_length    0.828066\n",
      "petal_length    1.764420\n",
      "petal_width     0.763161\n",
      "dtype: float64\n"
     ]
    }
   ],
   "source": [
    "######### Summary of Entire Data\n",
    "EntireDataSetMean,EntireDataSetStd = summarizzeDataset(df)\n",
    "print('#### Entire Dataset Mean #####')\n",
    "print(EntireDataSetMean)\n",
    "print()\n",
    "print('#### Entire Dataset Standard Deviation #####')\n",
    "print(EntireDataSetStd) "
   ]
  },
  {
   "cell_type": "code",
   "execution_count": 91,
   "id": "569d68f2",
   "metadata": {},
   "outputs": [
    {
     "name": "stdout",
     "output_type": "stream",
     "text": [
      "################train1 Summary#####################\n",
      "#### train1 Dataset Mean #####\n",
      "sepal_length    5.770667\n",
      "petal_length    3.589333\n",
      "petal_width     1.114667\n",
      "dtype: float64\n",
      "\n",
      "#### train1 Dataset Standard Deviation #####\n",
      "sepal_length    0.843380\n",
      "petal_length    1.785873\n",
      "petal_width     0.766475\n",
      "dtype: float64\n",
      "\n",
      "\n",
      "\n",
      "################train2 Summary#####################\n",
      "#### train2 Dataset Mean #####\n",
      "sepal_length    6.013333\n",
      "petal_length    4.075556\n",
      "petal_width     1.384444\n",
      "dtype: float64\n",
      "\n",
      "#### train1 Dataset Standard Deviation #####\n",
      "sepal_length    0.789303\n",
      "petal_length    1.767015\n",
      "petal_width     0.759472\n",
      "dtype: float64\n"
     ]
    }
   ],
   "source": [
    "################ Summary of train1 and train2 ##################\n",
    "\n",
    "print('################train1 Summary#####################')\n",
    "train1Mean,train1Std = summarizzeDataset(train1)\n",
    "print('#### train1 Dataset Mean #####')\n",
    "print(train1Mean)\n",
    "print()\n",
    "print('#### train1 Dataset Standard Deviation #####')\n",
    "print(train1Std) \n",
    "print()\n",
    "print()\n",
    "print()\n",
    "print('################train2 Summary#####################')\n",
    "train2Mean,train2Std = summarizzeDataset(train2)\n",
    "print('#### train2 Dataset Mean #####')\n",
    "print(train2Mean)\n",
    "print()\n",
    "print('#### train1 Dataset Standard Deviation #####')\n",
    "print(train2Std) \n"
   ]
  },
  {
   "cell_type": "code",
   "execution_count": 92,
   "id": "62085ca3",
   "metadata": {},
   "outputs": [
    {
     "name": "stdout",
     "output_type": "stream",
     "text": [
      "################train1 Class0 Summary#####################\n",
      "#### train1 Class0 Dataset Mean #####\n",
      "sepal_length    5.000000\n",
      "petal_length    1.478571\n",
      "petal_width     0.239286\n",
      "dtype: float64\n",
      "\n",
      "#### train1 Class0 Dataset Standard Deviation #####\n",
      "sepal_length    0.346410\n",
      "petal_length    0.195044\n",
      "petal_width     0.113331\n",
      "dtype: float64\n",
      "\n",
      "\n",
      "\n",
      "################train1 Class1 Summary#####################\n",
      "#### train1 Class1 Dataset Mean #####\n",
      "sepal_length    5.800000\n",
      "petal_length    4.211538\n",
      "petal_width     1.300000\n",
      "dtype: float64\n",
      "\n",
      "#### train1 Class1 Dataset Standard Deviation #####\n",
      "sepal_length    0.347563\n",
      "petal_length    0.432043\n",
      "petal_width     0.211660\n",
      "dtype: float64\n",
      "\n",
      "\n",
      "\n",
      "################train1 Class2 Summary#####################\n",
      "#### train1 Class2 Dataset Mean #####\n",
      "sepal_length    6.761905\n",
      "petal_length    5.633333\n",
      "petal_width     2.052381\n",
      "dtype: float64\n",
      "\n",
      "#### train1 Class2 Dataset Standard Deviation #####\n",
      "sepal_length    0.674148\n",
      "petal_length    0.623164\n",
      "petal_width     0.244170\n",
      "dtype: float64\n",
      "\n",
      "\n",
      "\n"
     ]
    }
   ],
   "source": [
    "########### Train 1 classes description ###################\n",
    "print('################train1 Class0 Summary#####################')\n",
    "train1Class0Mean,train1class0Std = summarizzeDataset(train1Class0)\n",
    "print('#### train1 Class0 Dataset Mean #####')\n",
    "print(train1Class0Mean)\n",
    "print()\n",
    "print('#### train1 Class0 Dataset Standard Deviation #####')\n",
    "print(train1class0Std) \n",
    "print()\n",
    "print()\n",
    "print()\n",
    "print('################train1 Class1 Summary#####################')\n",
    "train1Class1Mean,train1class1Std = summarizzeDataset(train1Class1)\n",
    "print('#### train1 Class1 Dataset Mean #####')\n",
    "print(train1Class1Mean)\n",
    "print()\n",
    "print('#### train1 Class1 Dataset Standard Deviation #####')\n",
    "print(train1class1Std) \n",
    "print()\n",
    "print()\n",
    "print()\n",
    "print('################train1 Class2 Summary#####################')\n",
    "train1Class2Mean,train1class2Std = summarizzeDataset(train1Class2)\n",
    "print('#### train1 Class2 Dataset Mean #####')\n",
    "print(train1Class2Mean)\n",
    "print()\n",
    "print('#### train1 Class2 Dataset Standard Deviation #####')\n",
    "print(train1class2Std) \n",
    "print()\n",
    "print()\n",
    "print()"
   ]
  },
  {
   "cell_type": "code",
   "execution_count": 93,
   "id": "7ae1139c",
   "metadata": {},
   "outputs": [
    {
     "name": "stdout",
     "output_type": "stream",
     "text": [
      "################train2 Class0 Summary#####################\n",
      "#### train2 Class0 Dataset Mean #####\n",
      "sepal_length    5.125000\n",
      "petal_length    1.425000\n",
      "petal_width     0.283333\n",
      "dtype: float64\n",
      "\n",
      "#### train2 Class0 Dataset Standard Deviation #####\n",
      "sepal_length    0.420227\n",
      "petal_length    0.176455\n",
      "petal_width     0.102986\n",
      "dtype: float64\n",
      "\n",
      "\n",
      "\n",
      "################train2 Class1 Summary#####################\n",
      "#### train2 Class1 Dataset Mean #####\n",
      "sepal_length    6.000000\n",
      "petal_length    4.208333\n",
      "petal_width     1.325000\n",
      "dtype: float64\n",
      "\n",
      "#### train2 Class1 Dataset Standard Deviation #####\n",
      "sepal_length    0.664694\n",
      "petal_length    0.593079\n",
      "petal_width     0.191288\n",
      "dtype: float64\n",
      "\n",
      "\n",
      "\n",
      "################train2 Class2 Summary#####################\n",
      "#### train2 Class2 Dataset Mean #####\n",
      "sepal_length    6.528571\n",
      "petal_length    5.514286\n",
      "petal_width     2.047619\n",
      "dtype: float64\n",
      "\n",
      "#### train2 Class2 Dataset Standard Deviation #####\n",
      "sepal_length    0.527393\n",
      "petal_length    0.509201\n",
      "petal_width     0.227198\n",
      "dtype: float64\n",
      "\n",
      "\n",
      "\n"
     ]
    }
   ],
   "source": [
    "########### Train 2 classes description ###################\n",
    "print('################train2 Class0 Summary#####################')\n",
    "train2Class0Mean,train2class0Std = summarizzeDataset(train2Class0)\n",
    "print('#### train2 Class0 Dataset Mean #####')\n",
    "print(train2Class0Mean)\n",
    "print()\n",
    "print('#### train2 Class0 Dataset Standard Deviation #####')\n",
    "print(train2class0Std) \n",
    "print()\n",
    "print()\n",
    "print()\n",
    "print('################train2 Class1 Summary#####################')\n",
    "train2Class1Mean,train2class1Std = summarizzeDataset(train2Class1)\n",
    "print('#### train2 Class1 Dataset Mean #####')\n",
    "print(train2Class1Mean)\n",
    "print()\n",
    "print('#### train2 Class1 Dataset Standard Deviation #####')\n",
    "print(train2class1Std) \n",
    "print()\n",
    "print()\n",
    "print()\n",
    "print('################train2 Class2 Summary#####################')\n",
    "train2Class2Mean,train2class2Std = summarizzeDataset(train2Class2)\n",
    "print('#### train2 Class2 Dataset Mean #####')\n",
    "print(train2Class2Mean)\n",
    "print()\n",
    "print('#### train2 Class2 Dataset Standard Deviation #####')\n",
    "print(train2class2Std) \n",
    "print()\n",
    "print()\n",
    "print()"
   ]
  },
  {
   "cell_type": "markdown",
   "id": "14d5b826-2c72-424b-8743-852fce856ecf",
   "metadata": {},
   "source": [
    "- Step 7: Gaussian Probability Density Function - Calculating the probability or likelihood of observing a given real-value like X1 is difficult. So We Assume that X1 values are drawn from a distribution, such as Gaussian distribution.\n"
   ]
  },
  {
   "attachments": {
    "93c8aa7d-f7bd-41d0-a60c-967c313385ad.jpeg": {
     "image/jpeg": "[encoded data removed]"
    }
   },
   "cell_type": "markdown",
   "id": "ac793259-03a4-4be4-9d76-825627f58307",
   "metadata": {},
   "source": [
    "<div>\n",
    "<img src=\"attachment:93c8aa7d-f7bd-41d0-a60c-967c313385ad.jpeg\" width=\"600\"/>\n",
    "</div>"
   ]
  },
  {
   "cell_type": "code",
   "execution_count": 94,
   "id": "c64d5e7e-ad09-437b-9337-67948ab1f7fc",
   "metadata": {},
   "outputs": [],
   "source": [
    "# STEP 7\n",
    "########### Code refferred from mulivar_gauss.ipynb files from supporting materials\n",
    "def multivariate_normal(x, d, mean, covariance):\n",
    "    \"\"\"probability distribution of the multivariate normal distribution.\n",
    "       x -> input\n",
    "       d -> dimension\n",
    "       mean -> mean vector\n",
    "       covariance -> covariance matrix\n",
    "    \"\"\"\n",
    "    x_m = x - mean\n",
    "    # print('x',x)\n",
    "    # print('covariance',covariance)\n",
    "    # print('x_m',x_m)\n",
    "    # print('mean',mean)\n",
    "    return (1. / (np.sqrt((2 * np.pi)**d * np.linalg.det(covariance))) * \n",
    "            np.exp(-(np.linalg.solve(covariance, x_m).T.dot(x_m)) / 2))\n",
    "\n",
    "def multivariate_dataset(trainFunc, d, mean, variance):\n",
    "    # train_copy.drop(columns=['species'])\n",
    "    pdf_train = []\n",
    "    for index,row in trainFunc.iterrows():\n",
    "        pdf_train.append(multivariate_normal(row,d,mean,variance))\n",
    "\n",
    "    return np.array(pdf_train)"
   ]
  },
  {
   "cell_type": "markdown",
   "id": "c559ef6d-bd6e-4d76-9d6d-3daf76806be3",
   "metadata": {},
   "source": [
    "- Step 8: Calculate Class Probabilities - Use the statistics from our training data to calculate probabilities for new data. Probabilities are calculated separately for each class. This means that we first calculate the probability that a new piece of data belongs to the first class, then calculate probabilities that it belongs to the second class, and so on for all the classes.\n"
   ]
  },
  {
   "attachments": {
    "7aed0d7d-3c46-4f7e-9d37-a0d4305ea76a.jpeg": {
     "image/jpeg": "[encoded data removed]"
    }
   },
   "cell_type": "markdown",
   "id": "1f2e58ce-51ca-4da8-b93c-fa54cd6ffbfe",
   "metadata": {},
   "source": [
    "<div>\n",
    "<img src=\"attachment:7aed0d7d-3c46-4f7e-9d37-a0d4305ea76a.jpeg\" width=\"600\"/>\n",
    "</div>"
   ]
  },
  {
   "cell_type": "code",
   "execution_count": 95,
   "id": "5ef87439",
   "metadata": {},
   "outputs": [],
   "source": [
    "### Prior probabilities of train1\n",
    "priorTrain1Class0 = len(train1[train1['species']==0])/len(train1)\n",
    "priorTrain1Class1 = len(train1[train1['species']==1])/len(train1)\n",
    "priorTrain1Class2 = len(train1[train1['species']==2])/len(train1)\n",
    "\n",
    "\n",
    "### Prior probabilities of train2\n",
    "priorTrain2Class0 = len(train2[train2['species']==0])/len(train2)\n",
    "priorTrain2Class1 = len(train2[train2['species']==1])/len(train2)\n",
    "priorTrain2Class2 = len(train2[train2['species']==2])/len(train2)\n",
    "\n"
   ]
  },
  {
   "cell_type": "code",
   "execution_count": 96,
   "id": "95d8e4df-5e11-4dcc-9e37-e70dfa5a7838",
   "metadata": {},
   "outputs": [],
   "source": [
    "# STEP 8\n",
    "#### The mean and variance will change according to the mean and variances calculated for each class calculated in the train1 and train2. Do it for all the trains generarated\n",
    "##### The features of the dataset are independent and uncorrelated. Thus, the covariance matrix will be a diagonal matrix of variances which is square of standard deviation \n",
    "\n",
    "#### For the entire train1 on class 0,1 and 2 with respect to classes \n",
    "train1Copy = train1.copy()\n",
    "train1Copy.drop(columns=['species'],inplace=True)\n",
    "#### train1 data against classes of train1\n",
    "train1Class0Prob = multivariate_dataset(train1Copy,3,train1Class0Mean,np.diag(train1class0Std**2))\n",
    "train1Class0Prob = train1Class0Prob*priorTrain1Class0\n",
    "\n",
    "train1Class1Prob = multivariate_dataset(train1Copy,3,train1Class1Mean,np.diag(train1class1Std**2))\n",
    "train1Class1Prob = train1Class1Prob*priorTrain1Class1\n",
    "\n",
    "train1Class2Prob = multivariate_dataset(train1Copy,3,train1Class2Mean,np.diag(train1class2Std**2))\n",
    "train1Class2Prob = train1Class2Prob*priorTrain1Class2\n",
    "\n",
    "\n",
    "train1Ontrain1 = []\n",
    "for i in range(len(train1Class1Prob)):\n",
    "    train1Ontrain1.append([train1Class0Prob[i],train1Class1Prob[i],train1Class2Prob[i]])\n",
    "# train1Ontrain1"
   ]
  },
  {
   "cell_type": "code",
   "execution_count": 97,
   "id": "9f3ee19e",
   "metadata": {},
   "outputs": [],
   "source": [
    "#### For the entire train1 on class 0,1 and 2 with respect to classes \n",
    "train1Copy = train1.copy()\n",
    "train1Copy.drop(columns=['species'],inplace=True)\n",
    "#### train1 data against classes of train2\n",
    "\n",
    "train1Class0Prob2 = multivariate_dataset(train1Copy,3,train2Class0Mean,np.diag(train2class0Std**2))\n",
    "train1Class0Prob2 = train1Class0Prob2*priorTrain2Class0\n",
    "\n",
    "train1Class1Prob2 = multivariate_dataset(train1Copy,3,train2Class1Mean,np.diag(train2class1Std**2))\n",
    "train1Class1Prob2 = train1Class1Prob2*priorTrain2Class1\n",
    "\n",
    "train1Class2Prob2 = multivariate_dataset(train1Copy,3,train2Class2Mean,np.diag(train2class2Std**2))\n",
    "train1Class2Prob2 = train1Class2Prob2*priorTrain2Class2\n",
    "\n",
    "train1Ontrain2 = []\n",
    "for i in range(len(train1Class0Prob2)):\n",
    "    train1Ontrain2.append([train1Class0Prob2[i],train1Class1Prob2[i],train1Class2Prob2[i]])\n",
    "\n"
   ]
  },
  {
   "cell_type": "code",
   "execution_count": 98,
   "id": "413fd870",
   "metadata": {},
   "outputs": [],
   "source": [
    "#### For the entire train2 on class 0,1 and 2 with respect to classes \n",
    "train2Copy = train2.copy()\n",
    "### Since the features are independent and uncorrelated, we can form the covariance matrix as the diagonal matrix\n",
    "train2Copy.drop(columns=['species'],inplace=True)\n",
    "#### train2 data against classes of train1\n",
    "\n",
    "train2Class0Prob = multivariate_dataset(train2Copy,3,train1Class0Mean,np.diag(train1class0Std**2))\n",
    "train2Class0Prob = train2Class0Prob*priorTrain1Class0\n",
    "\n",
    "train2Class1Prob = multivariate_dataset(train2Copy,3,train1Class1Mean,np.diag(train1class1Std**2))\n",
    "train2Class1Prob = train2Class1Prob*priorTrain1Class1\n",
    "\n",
    "train2Class2Prob = multivariate_dataset(train2Copy,3,train1Class2Mean,np.diag(train1class2Std**2))\n",
    "train2Class2Prob = train2Class2Prob*priorTrain1Class2\n",
    "\n",
    "train2Ontrain1 = []\n",
    "for i in range(len(train2Class0Prob)):\n",
    "    train1Ontrain2.append([train2Class0Prob[i],train2Class1Prob[i],train2Class2Prob[i]])\n"
   ]
  },
  {
   "cell_type": "code",
   "execution_count": 99,
   "id": "8ebd50d7",
   "metadata": {},
   "outputs": [],
   "source": [
    "#### For the entire train2 on class 0,1 and 2 with respect to classes \n",
    "train2Copy = train2.copy()\n",
    "### Since the features are independent and uncorrelated, we can form the covariance matrix as the diagonal matrix\n",
    "train2Copy.drop(columns=['species'],inplace=True)\n",
    "#### train2 data against classes of train2\n",
    "train2Class0Prob2 = multivariate_dataset(train2Copy,3,train2Class0Mean,np.diag(train2class0Std**2))\n",
    "train2Class0Prob2 = train2Class0Prob2*priorTrain2Class0\n",
    "\n",
    "train2Class1Prob2 = multivariate_dataset(train2Copy,3,train2Class1Mean,np.diag(train2class1Std**2))\n",
    "train2Class1Prob2 = train2Class1Prob2*priorTrain2Class1\n",
    "\n",
    "train2Class2Prob2 = multivariate_dataset(train2Copy,3,train2Class2Mean,np.diag(train2class2Std**2))\n",
    "train2Class2Prob2 = train2Class2Prob2*priorTrain2Class2\n",
    "\n",
    "train2Ontrain2 = []\n",
    "for i in range(len(train2Class0Prob2)):\n",
    "    train1Ontrain2.append([train2Class0Prob2[i],train2Class1Prob2[i],train2Class2Prob2[i]])"
   ]
  },
  {
   "cell_type": "code",
   "execution_count": 100,
   "id": "b396bea1-9645-457e-8b7c-6d687b4d2a7c",
   "metadata": {},
   "outputs": [],
   "source": [
    "# USE Above methods to do prediction\n",
    "#### Dor the test dataset on train1\n",
    "testCopy = test.copy()\n",
    "testCopy.drop(columns=['species'],inplace=True)\n",
    "#### test data against classes of train1\n",
    "testClass0Prob =  multivariate_dataset(testCopy,3,train1Class0Mean,np.diag(train1class0Std**2))\n",
    "testClass0Prob = testClass0Prob*priorTrain1Class0\n",
    "\n",
    "testClass1Prob =  multivariate_dataset(testCopy,3,train1Class1Mean,np.diag(train1class1Std**2))\n",
    "testClass1Prob = testClass1Prob*priorTrain1Class1\n",
    "\n",
    "testClass2Prob =  multivariate_dataset(testCopy,3,train1Class2Mean,np.diag(train1class2Std**2))\n",
    "testClass2Prob = testClass2Prob*priorTrain1Class2\n",
    "\n",
    "testOntrain1 = []\n",
    "for i in range(len(testClass0Prob)):\n",
    "    testOntrain1.append([testClass0Prob[i],testClass1Prob[i],testClass2Prob[i]])\n",
    "\n",
    "testClass0Prob2 =  multivariate_dataset(testCopy,3,train2Class0Mean,np.diag(train2class0Std**2))\n",
    "testClass0Prob2 = testClass0Prob2*priorTrain2Class0\n",
    "\n",
    "testClass1Prob2 =  multivariate_dataset(testCopy,3,train2Class1Mean,np.diag(train2class1Std**2))\n",
    "testClass1Prob2 = testClass1Prob2*priorTrain2Class1\n",
    "\n",
    "testClass2Prob2 =  multivariate_dataset(testCopy,3,train2Class2Mean,np.diag(train2class2Std**2))\n",
    "testClass2Prob2 = testClass2Prob2*priorTrain2Class2\n",
    "\n",
    "testOntrain2 = []\n",
    "for i in range(len(testClass0Prob2)):\n",
    "    testOntrain2.append([testClass0Prob2[i],testClass1Prob2[i],testClass2Prob2[i]])"
   ]
  },
  {
   "cell_type": "markdown",
   "id": "c4670675-2c6f-46b9-9c72-f5b59fa6c8eb",
   "metadata": {},
   "source": [
    "#### Steps 9 to 12 \n",
    "\n",
    "Define the classifier \n",
    "(40 Points)"
   ]
  },
  {
   "cell_type": "markdown",
   "id": "46047ec8-2535-4f3a-90a0-ecd66d033514",
   "metadata": {},
   "source": [
    "\n",
    "- Step 9: Define the Objective function\n",
    "\n",
    "Here, our **objective function** is to maximize the discriminant function $g_i(\\pmb x)$, which we define as the posterior probability to perform a **minimum-error classification** (Bayes classifier). \n",
    "\n",
    "$ g_1(\\pmb x) = P(\\omega_1 | \\; \\pmb{x}), \\quad  g_2(\\pmb{x}) = P(\\omega_2 | \\; \\pmb{x}), \\quad  g_3(\\pmb{x}) = P(\\omega_2 | \\; \\pmb{x})$\n"
   ]
  },
  {
   "cell_type": "code",
   "execution_count": 101,
   "id": "00fb48d2-9acc-48d6-baf9-ec8fb3fea46b",
   "metadata": {},
   "outputs": [],
   "source": [
    "# STEP 9\n",
    "### Code referred from maximum_likelihood_estimate given in supporting materials###\n",
    "def discriminant_function(x_vec, cov_mat, mu_vec):\n",
    "    \"\"\"\n",
    "    Calculates the value of the discriminant function for a dx1 dimensional\n",
    "    sample given the covariance matrix and mean vector.\n",
    "    \n",
    "    Keyword arguments:\n",
    "        x_vec: A dx1 dimensional numpy array representing the sample.\n",
    "        cov_mat: numpy array of the covariance matrix.\n",
    "        mu_vec: dx1 dimensional numpy array of the sample mean.\n",
    "    \n",
    "    Returns a float value as result of the discriminant function.\n",
    "    \n",
    "    \"\"\"\n",
    "    W_i = (-1/2) * np.linalg.inv(cov_mat)\n",
    "    assert(W_i.shape[0] > 1 and W_i.shape[1] > 1), 'W_i must be a matrix'\n",
    "    \n",
    "    w_i_dummy = np.linalg.inv(cov_mat).dot(mu_vec)\n",
    "    w_i = w_i_dummy[:,np.newaxis]\n",
    "    # print(w_i)\n",
    "    assert(w_i.shape[0] > 1 and w_i.shape[1] == 1), 'w_i must be a column vector'\n",
    "    \n",
    "    omega_i_p1 = (((-1/2) * (mu_vec).T).dot(np.linalg.inv(cov_mat))).dot(mu_vec)\n",
    "    omega_i_p2 = (-1/2) * np.log(np.linalg.det(cov_mat))\n",
    "    omega_i_dummy = omega_i_p1 - omega_i_p2\n",
    "    omega_i = np.reshape(omega_i_dummy,(1,1))\n",
    "    # print(omega_i.shape)\n",
    "    assert(omega_i.shape == (1, 1)), 'omega_i must be a scalar'\n",
    "    \n",
    "    g = ((x_vec.T).dot(W_i)).dot(x_vec) + (w_i.T).dot(x_vec) + omega_i\n",
    "    return float(g)"
   ]
  },
  {
   "cell_type": "markdown",
   "id": "8e26beb0-0326-4449-9071-e5fea76bb49f",
   "metadata": {},
   "source": [
    "- Step 10: Define the decision rule\n",
    "So that our decision rule is to choose the class $\\omega_i$ for which $g_i(\\pmb x)$ is max., where  \n",
    " $ \\quad g_i(\\pmb{x}) = \\pmb{x}^{\\,t} \\bigg( - \\frac{1}{2} \\Sigma_i^{-1} \\bigg) \\pmb{x} + \\bigg( \\Sigma_i^{-1} \\pmb{\\mu}_{\\,i}\\bigg)^t \\pmb x + \\bigg( -\\frac{1}{2} \\pmb{\\mu}_{\\,i}^{\\,t}  \\Sigma_{i}^{-1} \\pmb{\\mu}_{\\,i} -\\frac{1}{2} ln(|\\Sigma_i|)\\bigg) $\n",
    " \n",
    "It will returns the max. $g_i(\\pmb x)$ with the corresponding class label:"
   ]
  },
  {
   "cell_type": "code",
   "execution_count": 102,
   "id": "271a3de9-05ae-49bd-9382-8f27049a3ccb",
   "metadata": {},
   "outputs": [],
   "source": [
    "# STEP 10\n",
    "import operator\n",
    "\n",
    "def classify_data(x_vec, g, mu_vecs, cov_mats):\n",
    "    \"\"\"\n",
    "    Classifies an input sample into 1 out of 3 classes determined by\n",
    "    maximizing the discriminant function g_i().\n",
    "    \n",
    "    Keyword arguments:\n",
    "        x_vec: A dx1 dimensional numpy array representing the sample.\n",
    "        g: The discriminant function.\n",
    "        mu_vecs: A list of mean vectors as input for g.\n",
    "        cov_mats: A list of covariance matrices as input for g.\n",
    "    \n",
    "    Returns a tuple (g_i()_value, class label).\n",
    "    \n",
    "    \"\"\"\n",
    "    assert(len(mu_vecs) == len(cov_mats)), 'Number of mu_vecs and cov_mats must be equal.'\n",
    "    \n",
    "    g_vals = []\n",
    "    for m,c in zip(mu_vecs, cov_mats): \n",
    "        g_vals.append(g(x_vec, mu_vec=m, cov_mat=c))\n",
    "    \n",
    "    max_index, max_value = max(enumerate(g_vals), key=operator.itemgetter(1))\n",
    "    return (max_value, max_index)"
   ]
  },
  {
   "cell_type": "markdown",
   "id": "1df8d6cb-c10a-451a-bf32-fedd002c32db",
   "metadata": {},
   "source": [
    "- Step 11\n",
    "\n",
    "Using the discriminant function and classifier that we just implemented above,Use that to classify data."
   ]
  },
  {
   "cell_type": "code",
   "execution_count": 114,
   "id": "d6b0bcb9-3cc7-45ea-8bfe-53c48730877b",
   "metadata": {},
   "outputs": [
    {
     "name": "stdout",
     "output_type": "stream",
     "text": [
      "10 0 0\n",
      "0 8 4\n",
      "0 1 7\n"
     ]
    },
    {
     "name": "stderr",
     "output_type": "stream",
     "text": [
      "C:\\Users\\17164\\AppData\\Local\\Temp\\ipykernel_18092\\4098258070.py:13: SettingWithCopyWarning: \n",
      "A value is trying to be set on a copy of a slice from a DataFrame\n",
      "\n",
      "See the caveats in the documentation: https://pandas.pydata.org/pandas-docs/stable/user_guide/indexing.html#returning-a-view-versus-a-copy\n",
      "  testClass0.drop(columns=['species'],inplace=True)\n",
      "C:\\Users\\17164\\AppData\\Local\\Temp\\ipykernel_18092\\4098258070.py:14: SettingWithCopyWarning: \n",
      "A value is trying to be set on a copy of a slice from a DataFrame\n",
      "\n",
      "See the caveats in the documentation: https://pandas.pydata.org/pandas-docs/stable/user_guide/indexing.html#returning-a-view-versus-a-copy\n",
      "  testClass1.drop(columns=['species'],inplace=True)\n",
      "C:\\Users\\17164\\AppData\\Local\\Temp\\ipykernel_18092\\4098258070.py:15: SettingWithCopyWarning: \n",
      "A value is trying to be set on a copy of a slice from a DataFrame\n",
      "\n",
      "See the caveats in the documentation: https://pandas.pydata.org/pandas-docs/stable/user_guide/indexing.html#returning-a-view-versus-a-copy\n",
      "  testClass2.drop(columns=['species'],inplace=True)\n"
     ]
    }
   ],
   "source": [
    "# STEP 11\n",
    "covMattrain1Class0,covMattrain1Class1,covMattrain1Class2 = np.diag(train1class0Std**2),np.diag(train1class1Std**2),np.diag(train1class2Std**2)\n",
    "covMattrain2Class0,covMattrain2Class1,covMattrain2Class2 = np.diag(train2class0Std**2),np.diag(train2class1Std**2),np.diag(train2class2Std**2)\n",
    "\n",
    "\n",
    "# predictionAsClass0inTrain1Class0,predictionAsClass0inTrain1Class1,predictionAsClass0inTrain1Class2 = 0,0,0\n",
    "test0Ontrain1Class0,test0Ontrain1Class1,test0Ontrain1Class2 = 0,0,0\n",
    "test1Ontrain1Class0,test1Ontrain1Class1,test1Ontrain1Class2 = 0,0,0\n",
    "test2Ontrain1Class0,test2Ontrain1Class1,test2Ontrain1Class2 = 0,0,0\n",
    "\n",
    "\n",
    "testClass0, testClass1, testClass2 = test[test['species']==0],test[test['species']==1],test[test['species']==2]\n",
    "testClass0.drop(columns=['species'],inplace=True)\n",
    "testClass1.drop(columns=['species'],inplace=True)\n",
    "testClass2.drop(columns=['species'],inplace=True)\n",
    "\n",
    "for index, row in testClass0.iterrows():\n",
    "    prob = classify_data(row,discriminant_function,[train1Class0Mean,train1Class1Mean,train1Class2Mean],[covMattrain1Class0,covMattrain1Class1,covMattrain1Class2])\n",
    "    # prob2 = classify_data(row,discriminant_function,[train2Class0Mean,train2Class1Mean,train2Class2Mean],[covMattrain2Class0,covMattrain2Class1,covMattrain2Class2])\n",
    "    if(prob[1]==0):\n",
    "        test0Ontrain1Class0 = test0Ontrain1Class0+1\n",
    "    elif(prob[1]==1):\n",
    "        test0Ontrain1Class1 = test0Ontrain1Class1+1\n",
    "    else:\n",
    "        test0Ontrain1Class2 = test0Ontrain1Class2+1\n",
    "    \n",
    "for index, row in testClass1.iterrows():\n",
    "    prob = classify_data(row,discriminant_function,[train1Class0Mean,train1Class1Mean,train1Class2Mean],[covMattrain1Class0,covMattrain1Class1,covMattrain1Class2])\n",
    "    # prob2 = classify_data(row,discriminant_function,[train2Class0Mean,train2Class1Mean,train2Class2Mean],[covMattrain2Class0,covMattrain2Class1,covMattrain2Class2])\n",
    "    if(prob[1]==0):\n",
    "        test1Ontrain1Class0 = test1Ontrain1Class0+1\n",
    "    elif(prob[1]==1):\n",
    "        test1Ontrain1Class1 = test1Ontrain1Class1+1\n",
    "    else:\n",
    "        test1Ontrain1Class2 = test1Ontrain1Class2+1\n",
    "\n",
    "for index, row in testClass2.iterrows():\n",
    "    prob = classify_data(row,discriminant_function,[train1Class0Mean,train1Class1Mean,train1Class2Mean],[covMattrain1Class0,covMattrain1Class1,covMattrain1Class2])\n",
    "    # prob2 = classify_data(row,discriminant_function,[train2Class0Mean,train2Class1Mean,train2Class2Mean],[covMattrain2Class0,covMattrain2Class1,covMattrain2Class2])\n",
    "    if(prob[1]==0):\n",
    "        test2Ontrain1Class0 = test2Ontrain1Class0+1\n",
    "    elif(prob[1]==1):\n",
    "        test2Ontrain1Class1 = test2Ontrain1Class1+1\n",
    "    else:\n",
    "        test2Ontrain1Class2 = test2Ontrain1Class2+1\n",
    "\n",
    "print(test0Ontrain1Class0,test0Ontrain1Class1,test0Ontrain1Class2)\n",
    "print(test1Ontrain1Class0,test1Ontrain1Class1,test1Ontrain1Class2)\n",
    "print(test2Ontrain1Class0,test2Ontrain1Class1,test2Ontrain1Class2)\n"
   ]
  },
  {
   "cell_type": "code",
   "execution_count": 113,
   "id": "18e7a87f",
   "metadata": {},
   "outputs": [
    {
     "name": "stdout",
     "output_type": "stream",
     "text": [
      "10 0 0\n",
      "0 11 1\n",
      "0 3 5\n"
     ]
    }
   ],
   "source": [
    "test0Ontrain2Class0,test0Ontrain2Class1,test0Ontrain2Class2 = 0,0,0\n",
    "test1Ontrain2Class0,test1Ontrain2Class1,test1Ontrain2Class2 = 0,0,0\n",
    "test2Ontrain2Class0,test2Ontrain2Class1,test2Ontrain2Class2 = 0,0,0\n",
    "\n",
    "\n",
    "for index, row in testClass0.iterrows():\n",
    "    prob = classify_data(row,discriminant_function,[train2Class0Mean,train2Class1Mean,train2Class2Mean],[covMattrain2Class0,covMattrain2Class1,covMattrain2Class2])\n",
    "    # prob2 = classify_data(row,discriminant_function,[train2Class0Mean,train2Class1Mean,train2Class2Mean],[covMattrain2Class0,covMattrain2Class1,covMattrain2Class2])\n",
    "    if(prob[1]==0):\n",
    "        test0Ontrain2Class0 = test0Ontrain2Class0+1\n",
    "    elif(prob[1]==1):\n",
    "        test0Ontrain2Class1 = test0Ontrain2Class1+1\n",
    "    else:\n",
    "        test0Ontrain2Class2 = test0Ontrain2Class2+1\n",
    "    \n",
    "for index, row in testClass1.iterrows():\n",
    "    prob = classify_data(row,discriminant_function,[train2Class0Mean,train2Class1Mean,train2Class2Mean],[covMattrain2Class0,covMattrain2Class1,covMattrain2Class2])\n",
    "    # prob2 = classify_data(row,discriminant_function,[train2Class0Mean,train2Class1Mean,train2Class2Mean],[covMattrain2Class0,covMattrain2Class1,covMattrain2Class2])\n",
    "    if(prob[1]==0):\n",
    "        test1Ontrain2Class0 = test1Ontrain2Class0+1\n",
    "    elif(prob[1]==1):\n",
    "        test1Ontrain2Class1 = test1Ontrain2Class1+1\n",
    "    else:\n",
    "        test1Ontrain2Class2 = test1Ontrain2Class2+1\n",
    "\n",
    "for index, row in testClass2.iterrows():\n",
    "    prob = classify_data(row,discriminant_function,[train2Class0Mean,train2Class1Mean,train2Class2Mean],[covMattrain2Class0,covMattrain2Class1,covMattrain2Class2])\n",
    "    # prob2 = classify_data(row,discriminant_function,[train2Class0Mean,train2Class1Mean,train2Class2Mean],[covMattrain2Class0,covMattrain2Class1,covMattrain2Class2])\n",
    "    if(prob[1]==0):\n",
    "        test2Ontrain2Class0 = test2Ontrain2Class0+1\n",
    "    elif(prob[1]==1):\n",
    "        test2Ontrain2Class1 = test2Ontrain2Class1+1\n",
    "    else:\n",
    "        test2Ontrain2Class2 = test2Ontrain2Class2+1\n",
    "\n",
    "print(test0Ontrain2Class0,test0Ontrain2Class1,test0Ontrain2Class2)\n",
    "print(test1Ontrain2Class0,test1Ontrain2Class1,test1Ontrain2Class2)\n",
    "print(test2Ontrain2Class0,test2Ontrain2Class1,test2Ontrain2Class2)"
   ]
  },
  {
   "cell_type": "markdown",
   "id": "d9f65970",
   "metadata": {
    "id": "fuzzy-prairie"
   },
   "source": [
    "#### STEP 12 - Evaluate the Trained Model of different Subsets (Subset1-50%, Subset2-30%) on Test Set. ( 10 Points) \n",
    "12.1 Evaluate the False Positive, False Negative, True Positive, True Negative (5 Points)\n",
    "\n",
    "12.2 Evaluate the Precision, Recall, F1-Score. (5 Points)\n"
   ]
  },
  {
   "cell_type": "code",
   "execution_count": 112,
   "id": "b3f23004",
   "metadata": {
    "id": "outstanding-jewel"
   },
   "outputs": [
    {
     "name": "stdout",
     "output_type": "stream",
     "text": [
      "1.0 1.0 1.0\n"
     ]
    }
   ],
   "source": [
    "# STEP 12\n",
    "Fptrain1, Fntrain1, Tptrain1, Tntrain1 = 0,0,0,0\n",
    "### Let class 0 be positive class. Then class 1 and 2 will be negative classes\n",
    "Tptrain1 = test0Ontrain1Class0\n",
    "Tntrain1 = test1Ontrain1Class1+test1Ontrain1Class2+test2Ontrain1Class1+test2Ontrain1Class2\n",
    "Fptrain1 = test0Ontrain1Class1+test0Ontrain1Class2\n",
    "Fntrain1 = test1Ontrain1Class0+test2Ontrain1Class0\n",
    "\n",
    "precisiontrain1 =  Tptrain1/(Tptrain1+Fptrain1)\n",
    "recalltrain1 = Tptrain1/(Tptrain1+Fntrain1)\n",
    "f1scoretrain1 = (2*precisiontrain1*recalltrain1)/(precisiontrain1+recalltrain1)\n",
    "\n",
    "print(precisiontrain1,recalltrain1,f1scoretrain1)\n"
   ]
  },
  {
   "cell_type": "code",
   "execution_count": 115,
   "id": "13f5ece3",
   "metadata": {},
   "outputs": [
    {
     "name": "stdout",
     "output_type": "stream",
     "text": [
      "1.0 1.0 1.0\n"
     ]
    }
   ],
   "source": [
    "Fptrain2, Fntrain2, Tptrain2, Tntrain2 = 0,0,0,0\n",
    "Tptrain2 = test0Ontrain2Class0\n",
    "Tntrain2 = test1Ontrain2Class1+test1Ontrain2Class2+test2Ontrain2Class1+test2Ontrain2Class2\n",
    "Fptrain2 = test0Ontrain2Class1+test0Ontrain2Class2\n",
    "Fntrain2 = test1Ontrain2Class0+test2Ontrain2Class0\n",
    "\n",
    "precisiontrain2 =  Tptrain2/(Tptrain2+Fptrain2)\n",
    "recalltrain2 = Tptrain2/(Tptrain2+Fntrain2)\n",
    "f1scoretrain2 = (2*precisiontrain2*recalltrain2)/(precisiontrain2+recalltrain2)\n",
    "\n",
    "print(precisiontrain2,recalltrain2,f1scoretrain2)\n"
   ]
  },
  {
   "cell_type": "markdown",
   "id": "a92ebb38",
   "metadata": {
    "id": "gVM5_0s7AAGU"
   },
   "source": [
    "## Useful Library references\n",
    "\n",
    "  [test_train_split function](https://scikit-learn.org/stable/modules/generated/sklearn.model_selection.train_test_split.html#sklearn.model_selection.train_test_split)\n",
    "\n",
    "\n",
    "[Matplotlib Documentation](https://matplotlib.org/)\n",
    "\n",
    "## Other Reference \n",
    "\n",
    "  [Bayes Decision Theory](https://ublearns.buffalo.edu/ultra/courses/_192160_1/cl/outline)\n",
    "  \n",
    "  [MLBayesParameterEstimation](https://ublearns.buffalo.edu/ultra/courses/_192160_1/cl/outline)\n"
   ]
  },
  {
   "cell_type": "markdown",
   "id": "3ccc32e4",
   "metadata": {},
   "source": []
  }
 ],
 "metadata": {
  "colab": {
   "name": "main.ipynb",
   "provenance": []
  },
  "kernelspec": {
   "display_name": "Python 3.10.5 64-bit",
   "language": "python",
   "name": "python3"
  },
  "language_info": {
   "codemirror_mode": {
    "name": "ipython",
    "version": 3
   },
   "file_extension": ".py",
   "mimetype": "text/x-python",
   "name": "python",
   "nbconvert_exporter": "python",
   "pygments_lexer": "ipython3",
   "version": "3.10.5"
  },
  "vscode": {
   "interpreter": {
    "hash": "76d68c1b867ff41ee99cb78576c2f3a70a4fc70cee90091245f24a872150e938"
   }
  }
 },
 "nbformat": 4,
 "nbformat_minor": 5
}
